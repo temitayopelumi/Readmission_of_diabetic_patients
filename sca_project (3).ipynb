{
  "nbformat": 4,
  "nbformat_minor": 0,
  "metadata": {
    "colab": {
      "name": "sca_project",
      "provenance": [],
      "collapsed_sections": [],
      "toc_visible": true
    },
    "kernelspec": {
      "display_name": "Python 3",
      "name": "python3"
    }
  },
  "cells": [
    {
      "cell_type": "markdown",
      "metadata": {
        "id": "7QUQgep6nsyW"
      },
      "source": [
        "\r\n",
        "Problem Statement and Objective: A hospital readmission is when a patient who is discharged from the hospital, gets re-admitted again within a certain period of time. Hospital readmission rates for certain conditions are now considered an indicator of hospital quality, and also affect the cost of care adversely. For this reason, Centers for Medicare & Medicaid Services established the Hospital Readmissions Reduction Program which aims to improve quality of care for patients and reduce health care spending by applying payment penalties to hospitals that have more than expected readmission rates for certain conditions. Although diabetes is not yet included in the penalty measures, the program is regularly adding new disease conditions to the list, now totaling 6 for FY2018. In 2011, American hospitals spent over $41 billion on diabetic patients who got readmitted within 30 days of discharge. Being able to determine factors that lead to higher readmission in such patients, and correspondingly being able to predict which patients will get readmitted can help hospitals save millions of dollars while improving quality of care. So, with that background in mind, we used a medical claims dataset (description below), to answer these questions:\r\n",
        "\r\n",
        "What factors are the strongest predictors of hospital readmission in diabetic patients?\r\n",
        "How well can we predict hospital readmission in this dataset with limited features?\r\n"
      ]
    },
    {
      "cell_type": "markdown",
      "metadata": {
        "id": "Fb7xXOvLtzAS"
      },
      "source": [
        "**Data Set Description**\r\n",
        "\r\n",
        "VARIABLE NAMES: DESCRIPTION\r\n",
        "\r\n",
        "**Encounter ID**: Unique identifier of an encounter\r\n",
        "\r\n",
        "**Patient number**: Unique identifier of a patient\r\n",
        "\r\n",
        "**Race Values**: Caucasian, Asian, African American, Hispanic, and other\r\n",
        "\r\n",
        "**Gender Values**: male, female, and unknown/invalid\r\n",
        "\r\n",
        "**Age**: Grouped in 10-year intervals: 0, 10), 10, 20), …, 90, 100)\r\n",
        "\r\n",
        "**Weight**: Weight in pounds\r\n",
        "\r\n",
        "**Admission type**: Integer identifier corresponding to 9 distinct values, for example, emergency, urgent, elective, newborn, and not available\r\n",
        "\r\n",
        "**Discharge disposition**: Integer identifier corresponding to 29 distinct values, for example, discharged to home, expired, and not available\r\n",
        "\r\n",
        "**Admission source**: Integer identifier corresponding to 21 distinct values, for example, physician referral, emergency room, and transfer from a hospital\r\n",
        "\r\n",
        "**Time in hospital**: Integer number of days between admission and discharge\r\n",
        "\r\n",
        "**Payer code**: Integer identifier corresponding to 23 distinct values, for example, Blue Cross/Blue Shield, Medicare, and self-pay Medical\r\n",
        "\r\n",
        "**Medical specialty**: Integer identifier of a specialty of the admitting physician, corresponding to 84 distinct values, for example, cardiology, internal medicine, family/general practice, and surgeon\r\n",
        "\r\n",
        "**Number of lab procedures**: Number of lab tests performed during the encounter\r\n",
        "\r\n",
        "**Number of procedures**: Numeric Number of procedures (other than lab tests) performed during the encounter\r\n",
        "\r\n",
        "**Number of medications**: Number of distinct generic names administered during the encounter\r\n",
        "\r\n",
        "**Number of outpatient visits**: Number of outpatient visits of the patient in the year preceding the encounter\r\n",
        "\r\n",
        "\r\n",
        "**Number of emergency**: visits Number of emergency visits of the patient in the year preceding the encounter\r\n",
        "\r\n",
        "\r\n",
        "**Number of inpatient visits**: Number of inpatient visits of the patient in the year preceding the encounter\r\n",
        "\r\n",
        "\r\n",
        "**Diagnosis 1**: The primary diagnosis (coded as first three digits of ICD9); 848 distinct values\r\n",
        "\r\n",
        "\r\n",
        "**Diagnosis 2**: Secondary diagnosis (coded as first three digits of ICD9); 923 distinct values\r\n",
        "\r\n",
        "\r\n",
        "**Diagnosis 3**: Additional secondary diagnosis (coded as first three digits of ICD9); 954 distinct values\r\n",
        "\r\n",
        "\r\n",
        "**Number of diagnoses**: entered to the system 0%\r\n",
        "\r\n",
        "\r\n",
        "**Glucose serum test result**: Indicates the range of the result or if the test was not taken. Values: “>200,” “>300,” “normal,” and “none” if not measured\r\n",
        "\r\n",
        "\r\n",
        "**A1c test result**: Indicates the range of the result or if the test was not taken. Values: “>8” if the result was greater than 8%, “>7” if the result was greater than 7% but less than 8%, “normal” if the result was less than 7%, and “none” if not measured.\r\n",
        "\r\n",
        "\r\n",
        "**Change of medications**: Indicates if there was a change in diabetic medications (either dosage or generic name). Values: “change” and “no change”\r\n",
        "\r\n",
        "\r\n",
        "**Diabetes medications**: Indicates if there was any diabetic medication prescribed. Values: “yes” and “no”\r\n",
        "\r\n",
        "\r\n",
        "24 features for medications For the generic names: **metformin, repaglinide, nateglinide, chlorpropamide, glimepiride, acetohexamide, glipizide, glyburide, tolbutamide, pioglitazone, rosiglitazone, acarbose, miglitol, troglitazone, tolazamide, examide, sitagliptin, insulin, glyburide-metformin, glipizide-metformin, glimepiride- pioglitazone, metformin-rosiglitazone, and metformin- pioglitazone**, the feature indicates whether the drug was prescribed or there was a change in the dosage. Values: “up” if the dosage was increased during the encounter, “down” if the dosage was decreased, “steady” if the dosage did not change, and “no” if the drug was not prescribed\r\n",
        "\r\n",
        "\r\n",
        "**Readmitted**: Days to inpatient readmission. Values: “<30” if the patient was readmitted in less than 30 days, “>30” if the patient was readmitted in more than 30 days, and “No” for no record of readmission"
      ]
    },
    {
      "cell_type": "markdown",
      "metadata": {
        "id": "4D7ySLZOykJJ"
      },
      "source": [
        "### Data preparation and Exploration"
      ]
    },
    {
      "cell_type": "code",
      "metadata": {
        "id": "cRFK3rk4GmSo"
      },
      "source": [
        "import pandas as pd\n",
        "import numpy as np\n",
        "import matplotlib.pyplot as plt\n",
        "import seaborn as sns\n",
        "import re\n",
        "import numpy as np\n",
        "from sklearn.model_selection import train_test_split\n",
        "from sklearn.preprocessing import StandardScaler,LabelEncoder, OrdinalEncoder\n",
        "from sklearn.model_selection import train_test_split, GridSearchCV, cross_val_score\n",
        "from sklearn.metrics import (confusion_matrix, accuracy_score,f1_score,recall_score,mean_squared_error, r2_score, \n",
        "roc_auc_score, roc_curve, classification_report,precision_recall_fscore_support)\n",
        "from sklearn.metrics import roc_auc_score, accuracy_score, precision_score, recall_score,f1_score\n",
        "from sklearn.metrics import confusion_matrix as cm\n",
        "from sklearn.linear_model import LogisticRegression\n",
        "from sklearn.linear_model import SGDClassifier\n",
        "from sklearn.neighbors import KNeighborsClassifier\n",
        "from sklearn.svm import SVC\n",
        "from sklearn.neural_network import MLPClassifier\n",
        "from sklearn.tree import DecisionTreeClassifier\n",
        "from sklearn.ensemble import RandomForestClassifier\n",
        "from sklearn.ensemble import GradientBoostingClassifier\n",
        "from xgboost import XGBClassifier\n",
        "from sklearn.pipeline import Pipeline\n",
        "from sklearn.preprocessing import StandardScaler"
      ],
      "execution_count": 3,
      "outputs": []
    },
    {
      "cell_type": "code",
      "metadata": {
        "colab": {
          "base_uri": "https://localhost:8080/"
        },
        "id": "sO05tsdSHdGp",
        "outputId": "a8a8e4d5-c2d4-44f6-f7b9-3c0ab64e54a8"
      },
      "source": [
        "from google.colab import drive\n",
        "drive.mount('/content/drive')"
      ],
      "execution_count": 4,
      "outputs": [
        {
          "output_type": "stream",
          "text": [
            "Drive already mounted at /content/drive; to attempt to forcibly remount, call drive.mount(\"/content/drive\", force_remount=True).\n"
          ],
          "name": "stdout"
        }
      ]
    },
    {
      "cell_type": "code",
      "metadata": {
        "id": "rKVGvXemI64T"
      },
      "source": [
        "data = pd.read_csv('/content/drive/My Drive/diabetic_data.csv')"
      ],
      "execution_count": 5,
      "outputs": []
    },
    {
      "cell_type": "code",
      "metadata": {
        "id": "rDkhnAxEWfuW",
        "colab": {
          "base_uri": "https://localhost:8080/",
          "height": 308
        },
        "outputId": "14bc3aec-b8d2-4ed4-e792-6e6f178f5c71"
      },
      "source": [
        "data.head()"
      ],
      "execution_count": 6,
      "outputs": [
        {
          "output_type": "execute_result",
          "data": {
            "text/html": [
              "<div>\n",
              "<style scoped>\n",
              "    .dataframe tbody tr th:only-of-type {\n",
              "        vertical-align: middle;\n",
              "    }\n",
              "\n",
              "    .dataframe tbody tr th {\n",
              "        vertical-align: top;\n",
              "    }\n",
              "\n",
              "    .dataframe thead th {\n",
              "        text-align: right;\n",
              "    }\n",
              "</style>\n",
              "<table border=\"1\" class=\"dataframe\">\n",
              "  <thead>\n",
              "    <tr style=\"text-align: right;\">\n",
              "      <th></th>\n",
              "      <th>encounter_id</th>\n",
              "      <th>patient_nbr</th>\n",
              "      <th>race</th>\n",
              "      <th>gender</th>\n",
              "      <th>age</th>\n",
              "      <th>weight</th>\n",
              "      <th>admission_type_id</th>\n",
              "      <th>discharge_disposition_id</th>\n",
              "      <th>admission_source_id</th>\n",
              "      <th>time_in_hospital</th>\n",
              "      <th>payer_code</th>\n",
              "      <th>medical_specialty</th>\n",
              "      <th>num_lab_procedures</th>\n",
              "      <th>num_procedures</th>\n",
              "      <th>num_medications</th>\n",
              "      <th>number_outpatient</th>\n",
              "      <th>number_emergency</th>\n",
              "      <th>number_inpatient</th>\n",
              "      <th>diag_1</th>\n",
              "      <th>diag_2</th>\n",
              "      <th>diag_3</th>\n",
              "      <th>number_diagnoses</th>\n",
              "      <th>max_glu_serum</th>\n",
              "      <th>A1Cresult</th>\n",
              "      <th>metformin</th>\n",
              "      <th>repaglinide</th>\n",
              "      <th>nateglinide</th>\n",
              "      <th>chlorpropamide</th>\n",
              "      <th>glimepiride</th>\n",
              "      <th>acetohexamide</th>\n",
              "      <th>glipizide</th>\n",
              "      <th>glyburide</th>\n",
              "      <th>tolbutamide</th>\n",
              "      <th>pioglitazone</th>\n",
              "      <th>rosiglitazone</th>\n",
              "      <th>acarbose</th>\n",
              "      <th>miglitol</th>\n",
              "      <th>troglitazone</th>\n",
              "      <th>tolazamide</th>\n",
              "      <th>examide</th>\n",
              "      <th>citoglipton</th>\n",
              "      <th>insulin</th>\n",
              "      <th>glyburide-metformin</th>\n",
              "      <th>glipizide-metformin</th>\n",
              "      <th>glimepiride-pioglitazone</th>\n",
              "      <th>metformin-rosiglitazone</th>\n",
              "      <th>metformin-pioglitazone</th>\n",
              "      <th>change</th>\n",
              "      <th>diabetesMed</th>\n",
              "      <th>readmitted</th>\n",
              "    </tr>\n",
              "  </thead>\n",
              "  <tbody>\n",
              "    <tr>\n",
              "      <th>0</th>\n",
              "      <td>2278392</td>\n",
              "      <td>8222157</td>\n",
              "      <td>Caucasian</td>\n",
              "      <td>Female</td>\n",
              "      <td>[0-10)</td>\n",
              "      <td>?</td>\n",
              "      <td>6</td>\n",
              "      <td>25</td>\n",
              "      <td>1</td>\n",
              "      <td>1</td>\n",
              "      <td>?</td>\n",
              "      <td>Pediatrics-Endocrinology</td>\n",
              "      <td>41</td>\n",
              "      <td>0</td>\n",
              "      <td>1</td>\n",
              "      <td>0</td>\n",
              "      <td>0</td>\n",
              "      <td>0</td>\n",
              "      <td>250.83</td>\n",
              "      <td>?</td>\n",
              "      <td>?</td>\n",
              "      <td>1</td>\n",
              "      <td>None</td>\n",
              "      <td>None</td>\n",
              "      <td>No</td>\n",
              "      <td>No</td>\n",
              "      <td>No</td>\n",
              "      <td>No</td>\n",
              "      <td>No</td>\n",
              "      <td>No</td>\n",
              "      <td>No</td>\n",
              "      <td>No</td>\n",
              "      <td>No</td>\n",
              "      <td>No</td>\n",
              "      <td>No</td>\n",
              "      <td>No</td>\n",
              "      <td>No</td>\n",
              "      <td>No</td>\n",
              "      <td>No</td>\n",
              "      <td>No</td>\n",
              "      <td>No</td>\n",
              "      <td>No</td>\n",
              "      <td>No</td>\n",
              "      <td>No</td>\n",
              "      <td>No</td>\n",
              "      <td>No</td>\n",
              "      <td>No</td>\n",
              "      <td>No</td>\n",
              "      <td>No</td>\n",
              "      <td>NO</td>\n",
              "    </tr>\n",
              "    <tr>\n",
              "      <th>1</th>\n",
              "      <td>149190</td>\n",
              "      <td>55629189</td>\n",
              "      <td>Caucasian</td>\n",
              "      <td>Female</td>\n",
              "      <td>[10-20)</td>\n",
              "      <td>?</td>\n",
              "      <td>1</td>\n",
              "      <td>1</td>\n",
              "      <td>7</td>\n",
              "      <td>3</td>\n",
              "      <td>?</td>\n",
              "      <td>?</td>\n",
              "      <td>59</td>\n",
              "      <td>0</td>\n",
              "      <td>18</td>\n",
              "      <td>0</td>\n",
              "      <td>0</td>\n",
              "      <td>0</td>\n",
              "      <td>276</td>\n",
              "      <td>250.01</td>\n",
              "      <td>255</td>\n",
              "      <td>9</td>\n",
              "      <td>None</td>\n",
              "      <td>None</td>\n",
              "      <td>No</td>\n",
              "      <td>No</td>\n",
              "      <td>No</td>\n",
              "      <td>No</td>\n",
              "      <td>No</td>\n",
              "      <td>No</td>\n",
              "      <td>No</td>\n",
              "      <td>No</td>\n",
              "      <td>No</td>\n",
              "      <td>No</td>\n",
              "      <td>No</td>\n",
              "      <td>No</td>\n",
              "      <td>No</td>\n",
              "      <td>No</td>\n",
              "      <td>No</td>\n",
              "      <td>No</td>\n",
              "      <td>No</td>\n",
              "      <td>Up</td>\n",
              "      <td>No</td>\n",
              "      <td>No</td>\n",
              "      <td>No</td>\n",
              "      <td>No</td>\n",
              "      <td>No</td>\n",
              "      <td>Ch</td>\n",
              "      <td>Yes</td>\n",
              "      <td>&gt;30</td>\n",
              "    </tr>\n",
              "    <tr>\n",
              "      <th>2</th>\n",
              "      <td>64410</td>\n",
              "      <td>86047875</td>\n",
              "      <td>AfricanAmerican</td>\n",
              "      <td>Female</td>\n",
              "      <td>[20-30)</td>\n",
              "      <td>?</td>\n",
              "      <td>1</td>\n",
              "      <td>1</td>\n",
              "      <td>7</td>\n",
              "      <td>2</td>\n",
              "      <td>?</td>\n",
              "      <td>?</td>\n",
              "      <td>11</td>\n",
              "      <td>5</td>\n",
              "      <td>13</td>\n",
              "      <td>2</td>\n",
              "      <td>0</td>\n",
              "      <td>1</td>\n",
              "      <td>648</td>\n",
              "      <td>250</td>\n",
              "      <td>V27</td>\n",
              "      <td>6</td>\n",
              "      <td>None</td>\n",
              "      <td>None</td>\n",
              "      <td>No</td>\n",
              "      <td>No</td>\n",
              "      <td>No</td>\n",
              "      <td>No</td>\n",
              "      <td>No</td>\n",
              "      <td>No</td>\n",
              "      <td>Steady</td>\n",
              "      <td>No</td>\n",
              "      <td>No</td>\n",
              "      <td>No</td>\n",
              "      <td>No</td>\n",
              "      <td>No</td>\n",
              "      <td>No</td>\n",
              "      <td>No</td>\n",
              "      <td>No</td>\n",
              "      <td>No</td>\n",
              "      <td>No</td>\n",
              "      <td>No</td>\n",
              "      <td>No</td>\n",
              "      <td>No</td>\n",
              "      <td>No</td>\n",
              "      <td>No</td>\n",
              "      <td>No</td>\n",
              "      <td>No</td>\n",
              "      <td>Yes</td>\n",
              "      <td>NO</td>\n",
              "    </tr>\n",
              "    <tr>\n",
              "      <th>3</th>\n",
              "      <td>500364</td>\n",
              "      <td>82442376</td>\n",
              "      <td>Caucasian</td>\n",
              "      <td>Male</td>\n",
              "      <td>[30-40)</td>\n",
              "      <td>?</td>\n",
              "      <td>1</td>\n",
              "      <td>1</td>\n",
              "      <td>7</td>\n",
              "      <td>2</td>\n",
              "      <td>?</td>\n",
              "      <td>?</td>\n",
              "      <td>44</td>\n",
              "      <td>1</td>\n",
              "      <td>16</td>\n",
              "      <td>0</td>\n",
              "      <td>0</td>\n",
              "      <td>0</td>\n",
              "      <td>8</td>\n",
              "      <td>250.43</td>\n",
              "      <td>403</td>\n",
              "      <td>7</td>\n",
              "      <td>None</td>\n",
              "      <td>None</td>\n",
              "      <td>No</td>\n",
              "      <td>No</td>\n",
              "      <td>No</td>\n",
              "      <td>No</td>\n",
              "      <td>No</td>\n",
              "      <td>No</td>\n",
              "      <td>No</td>\n",
              "      <td>No</td>\n",
              "      <td>No</td>\n",
              "      <td>No</td>\n",
              "      <td>No</td>\n",
              "      <td>No</td>\n",
              "      <td>No</td>\n",
              "      <td>No</td>\n",
              "      <td>No</td>\n",
              "      <td>No</td>\n",
              "      <td>No</td>\n",
              "      <td>Up</td>\n",
              "      <td>No</td>\n",
              "      <td>No</td>\n",
              "      <td>No</td>\n",
              "      <td>No</td>\n",
              "      <td>No</td>\n",
              "      <td>Ch</td>\n",
              "      <td>Yes</td>\n",
              "      <td>NO</td>\n",
              "    </tr>\n",
              "    <tr>\n",
              "      <th>4</th>\n",
              "      <td>16680</td>\n",
              "      <td>42519267</td>\n",
              "      <td>Caucasian</td>\n",
              "      <td>Male</td>\n",
              "      <td>[40-50)</td>\n",
              "      <td>?</td>\n",
              "      <td>1</td>\n",
              "      <td>1</td>\n",
              "      <td>7</td>\n",
              "      <td>1</td>\n",
              "      <td>?</td>\n",
              "      <td>?</td>\n",
              "      <td>51</td>\n",
              "      <td>0</td>\n",
              "      <td>8</td>\n",
              "      <td>0</td>\n",
              "      <td>0</td>\n",
              "      <td>0</td>\n",
              "      <td>197</td>\n",
              "      <td>157</td>\n",
              "      <td>250</td>\n",
              "      <td>5</td>\n",
              "      <td>None</td>\n",
              "      <td>None</td>\n",
              "      <td>No</td>\n",
              "      <td>No</td>\n",
              "      <td>No</td>\n",
              "      <td>No</td>\n",
              "      <td>No</td>\n",
              "      <td>No</td>\n",
              "      <td>Steady</td>\n",
              "      <td>No</td>\n",
              "      <td>No</td>\n",
              "      <td>No</td>\n",
              "      <td>No</td>\n",
              "      <td>No</td>\n",
              "      <td>No</td>\n",
              "      <td>No</td>\n",
              "      <td>No</td>\n",
              "      <td>No</td>\n",
              "      <td>No</td>\n",
              "      <td>Steady</td>\n",
              "      <td>No</td>\n",
              "      <td>No</td>\n",
              "      <td>No</td>\n",
              "      <td>No</td>\n",
              "      <td>No</td>\n",
              "      <td>Ch</td>\n",
              "      <td>Yes</td>\n",
              "      <td>NO</td>\n",
              "    </tr>\n",
              "  </tbody>\n",
              "</table>\n",
              "</div>"
            ],
            "text/plain": [
              "   encounter_id  patient_nbr             race  ... change diabetesMed readmitted\n",
              "0       2278392      8222157        Caucasian  ...     No          No         NO\n",
              "1        149190     55629189        Caucasian  ...     Ch         Yes        >30\n",
              "2         64410     86047875  AfricanAmerican  ...     No         Yes         NO\n",
              "3        500364     82442376        Caucasian  ...     Ch         Yes         NO\n",
              "4         16680     42519267        Caucasian  ...     Ch         Yes         NO\n",
              "\n",
              "[5 rows x 50 columns]"
            ]
          },
          "metadata": {
            "tags": []
          },
          "execution_count": 6
        }
      ]
    },
    {
      "cell_type": "code",
      "metadata": {
        "colab": {
          "base_uri": "https://localhost:8080/"
        },
        "id": "jjV1s5WLUgpk",
        "outputId": "de8ba572-3b56-45fb-a46c-bf8995535649"
      },
      "source": [
        "data.shape"
      ],
      "execution_count": 7,
      "outputs": [
        {
          "output_type": "execute_result",
          "data": {
            "text/plain": [
              "(101766, 50)"
            ]
          },
          "metadata": {
            "tags": []
          },
          "execution_count": 7
        }
      ]
    },
    {
      "cell_type": "code",
      "metadata": {
        "id": "uBDlCN7xXqNU"
      },
      "source": [
        "data.readmitted = [1 if each=='<30' else 0 for each in data.readmitted]"
      ],
      "execution_count": 9,
      "outputs": []
    },
    {
      "cell_type": "code",
      "metadata": {
        "id": "EUWj6EwAXyeI"
      },
      "source": [
        "def cat(data, column, labels=[]):\r\n",
        "    fig, ax=plt.subplots(nrows=1,ncols=2, figsize=(12,5))\r\n",
        "    sns.countplot(x=data[column], data=data, ax=ax[0])\r\n",
        "    data[column].value_counts().plot.pie(labels=labels,autopct=\"%1.2f%%\",explode = (0, 0.05))\r\n",
        "    plt.show()"
      ],
      "execution_count": 10,
      "outputs": []
    },
    {
      "cell_type": "code",
      "metadata": {
        "id": "9_YoS3YYX-Ak",
        "colab": {
          "base_uri": "https://localhost:8080/",
          "height": 333
        },
        "outputId": "45f65f42-895d-4a5a-cd14-1f2e01d37f4e"
      },
      "source": [
        "cat(data,'readmitted',labels=['0','1'])"
      ],
      "execution_count": 11,
      "outputs": [
        {
          "output_type": "display_data",
          "data": {
            "image/png": "[encoded data removed]",
            "text/plain": [
              "<Figure size 864x360 with 2 Axes>"
            ]
          },
          "metadata": {
            "tags": [],
            "needs_background": "light"
          }
        }
      ]
    },
    {
      "cell_type": "code",
      "metadata": {
        "id": "-EHj6GEjX6ku"
      },
      "source": [
        "data.replace('?', np.nan , inplace=True)"
      ],
      "execution_count": 12,
      "outputs": []
    },
    {
      "cell_type": "code",
      "metadata": {
        "id": "sqIhinKA85Qu"
      },
      "source": [
        "data.replace('Unknown/Ivalid', np.nan, inplace=True)"
      ],
      "execution_count": 13,
      "outputs": []
    },
    {
      "cell_type": "markdown",
      "metadata": {
        "id": "ynUNzlCB1dmd"
      },
      "source": [
        "### Dealing with Missing Values"
      ]
    },
    {
      "cell_type": "markdown",
      "metadata": {
        "id": "k_5uxCbI-ujM"
      },
      "source": [
        "Weight” is missing in over 98% records. “Payer code” and “Medical specialty” also have 40-50% missing values. The best thing is to drop them because the poor interpretability and little predictive generalizability to ptients. Two medications named “Citoglipton” and “Examide” were deleted because all records have the same value."
      ]
    },
    {
      "cell_type": "code",
      "metadata": {
        "id": "7lf_4kQg9zla"
      },
      "source": [
        "drop_l = ['examide' , 'citoglipton', 'weight','encounter_id','patient_nbr','payer_code','medical_specialty']  \r\n",
        "data.drop(drop_l,axis=1, inplace=True)"
      ],
      "execution_count": 15,
      "outputs": []
    },
    {
      "cell_type": "code",
      "metadata": {
        "colab": {
          "base_uri": "https://localhost:8080/"
        },
        "id": "2s_vcuIK_iBU",
        "outputId": "b0932563-c3b4-4f02-b284-2d7499a84f3e"
      },
      "source": [
        "data.shape"
      ],
      "execution_count": 16,
      "outputs": [
        {
          "output_type": "execute_result",
          "data": {
            "text/plain": [
              "(101766, 43)"
            ]
          },
          "metadata": {
            "tags": []
          },
          "execution_count": 16
        }
      ]
    },
    {
      "cell_type": "code",
      "metadata": {
        "id": "6qmQ4bVk_18t"
      },
      "source": [
        "data.dropna(subset=['gender'], how='all', inplace = True)"
      ],
      "execution_count": 17,
      "outputs": []
    },
    {
      "cell_type": "code",
      "metadata": {
        "id": "kSCdkAkT1yR5"
      },
      "source": [
        "data[\"race\"].fillna(data[\"race\"].mode()[0], inplace = True)"
      ],
      "execution_count": 14,
      "outputs": []
    },
    {
      "cell_type": "code",
      "metadata": {
        "colab": {
          "base_uri": "https://localhost:8080/",
          "height": 297
        },
        "id": "weMuq1V9ApDq",
        "outputId": "f2673333-ff14-4140-877a-6481cbcb93de"
      },
      "source": [
        "data.describe()"
      ],
      "execution_count": 18,
      "outputs": [
        {
          "output_type": "execute_result",
          "data": {
            "text/html": [
              "<div>\n",
              "<style scoped>\n",
              "    .dataframe tbody tr th:only-of-type {\n",
              "        vertical-align: middle;\n",
              "    }\n",
              "\n",
              "    .dataframe tbody tr th {\n",
              "        vertical-align: top;\n",
              "    }\n",
              "\n",
              "    .dataframe thead th {\n",
              "        text-align: right;\n",
              "    }\n",
              "</style>\n",
              "<table border=\"1\" class=\"dataframe\">\n",
              "  <thead>\n",
              "    <tr style=\"text-align: right;\">\n",
              "      <th></th>\n",
              "      <th>admission_type_id</th>\n",
              "      <th>discharge_disposition_id</th>\n",
              "      <th>admission_source_id</th>\n",
              "      <th>time_in_hospital</th>\n",
              "      <th>num_lab_procedures</th>\n",
              "      <th>num_procedures</th>\n",
              "      <th>num_medications</th>\n",
              "      <th>number_outpatient</th>\n",
              "      <th>number_emergency</th>\n",
              "      <th>number_inpatient</th>\n",
              "      <th>number_diagnoses</th>\n",
              "      <th>readmitted</th>\n",
              "    </tr>\n",
              "  </thead>\n",
              "  <tbody>\n",
              "    <tr>\n",
              "      <th>count</th>\n",
              "      <td>101766.000000</td>\n",
              "      <td>101766.000000</td>\n",
              "      <td>101766.000000</td>\n",
              "      <td>101766.000000</td>\n",
              "      <td>101766.000000</td>\n",
              "      <td>101766.000000</td>\n",
              "      <td>101766.000000</td>\n",
              "      <td>101766.000000</td>\n",
              "      <td>101766.000000</td>\n",
              "      <td>101766.000000</td>\n",
              "      <td>101766.000000</td>\n",
              "      <td>101766.000000</td>\n",
              "    </tr>\n",
              "    <tr>\n",
              "      <th>mean</th>\n",
              "      <td>2.024006</td>\n",
              "      <td>3.715642</td>\n",
              "      <td>5.754437</td>\n",
              "      <td>4.395987</td>\n",
              "      <td>43.095641</td>\n",
              "      <td>1.339730</td>\n",
              "      <td>16.021844</td>\n",
              "      <td>0.369357</td>\n",
              "      <td>0.197836</td>\n",
              "      <td>0.635566</td>\n",
              "      <td>7.422607</td>\n",
              "      <td>0.111599</td>\n",
              "    </tr>\n",
              "    <tr>\n",
              "      <th>std</th>\n",
              "      <td>1.445403</td>\n",
              "      <td>5.280166</td>\n",
              "      <td>4.064081</td>\n",
              "      <td>2.985108</td>\n",
              "      <td>19.674362</td>\n",
              "      <td>1.705807</td>\n",
              "      <td>8.127566</td>\n",
              "      <td>1.267265</td>\n",
              "      <td>0.930472</td>\n",
              "      <td>1.262863</td>\n",
              "      <td>1.933600</td>\n",
              "      <td>0.314874</td>\n",
              "    </tr>\n",
              "    <tr>\n",
              "      <th>min</th>\n",
              "      <td>1.000000</td>\n",
              "      <td>1.000000</td>\n",
              "      <td>1.000000</td>\n",
              "      <td>1.000000</td>\n",
              "      <td>1.000000</td>\n",
              "      <td>0.000000</td>\n",
              "      <td>1.000000</td>\n",
              "      <td>0.000000</td>\n",
              "      <td>0.000000</td>\n",
              "      <td>0.000000</td>\n",
              "      <td>1.000000</td>\n",
              "      <td>0.000000</td>\n",
              "    </tr>\n",
              "    <tr>\n",
              "      <th>25%</th>\n",
              "      <td>1.000000</td>\n",
              "      <td>1.000000</td>\n",
              "      <td>1.000000</td>\n",
              "      <td>2.000000</td>\n",
              "      <td>31.000000</td>\n",
              "      <td>0.000000</td>\n",
              "      <td>10.000000</td>\n",
              "      <td>0.000000</td>\n",
              "      <td>0.000000</td>\n",
              "      <td>0.000000</td>\n",
              "      <td>6.000000</td>\n",
              "      <td>0.000000</td>\n",
              "    </tr>\n",
              "    <tr>\n",
              "      <th>50%</th>\n",
              "      <td>1.000000</td>\n",
              "      <td>1.000000</td>\n",
              "      <td>7.000000</td>\n",
              "      <td>4.000000</td>\n",
              "      <td>44.000000</td>\n",
              "      <td>1.000000</td>\n",
              "      <td>15.000000</td>\n",
              "      <td>0.000000</td>\n",
              "      <td>0.000000</td>\n",
              "      <td>0.000000</td>\n",
              "      <td>8.000000</td>\n",
              "      <td>0.000000</td>\n",
              "    </tr>\n",
              "    <tr>\n",
              "      <th>75%</th>\n",
              "      <td>3.000000</td>\n",
              "      <td>4.000000</td>\n",
              "      <td>7.000000</td>\n",
              "      <td>6.000000</td>\n",
              "      <td>57.000000</td>\n",
              "      <td>2.000000</td>\n",
              "      <td>20.000000</td>\n",
              "      <td>0.000000</td>\n",
              "      <td>0.000000</td>\n",
              "      <td>1.000000</td>\n",
              "      <td>9.000000</td>\n",
              "      <td>0.000000</td>\n",
              "    </tr>\n",
              "    <tr>\n",
              "      <th>max</th>\n",
              "      <td>8.000000</td>\n",
              "      <td>28.000000</td>\n",
              "      <td>25.000000</td>\n",
              "      <td>14.000000</td>\n",
              "      <td>132.000000</td>\n",
              "      <td>6.000000</td>\n",
              "      <td>81.000000</td>\n",
              "      <td>42.000000</td>\n",
              "      <td>76.000000</td>\n",
              "      <td>21.000000</td>\n",
              "      <td>16.000000</td>\n",
              "      <td>1.000000</td>\n",
              "    </tr>\n",
              "  </tbody>\n",
              "</table>\n",
              "</div>"
            ],
            "text/plain": [
              "       admission_type_id  ...     readmitted\n",
              "count      101766.000000  ...  101766.000000\n",
              "mean            2.024006  ...       0.111599\n",
              "std             1.445403  ...       0.314874\n",
              "min             1.000000  ...       0.000000\n",
              "25%             1.000000  ...       0.000000\n",
              "50%             1.000000  ...       0.000000\n",
              "75%             3.000000  ...       0.000000\n",
              "max             8.000000  ...       1.000000\n",
              "\n",
              "[8 rows x 12 columns]"
            ]
          },
          "metadata": {
            "tags": []
          },
          "execution_count": 18
        }
      ]
    },
    {
      "cell_type": "markdown",
      "metadata": {
        "id": "Q4mUrkim14cM"
      },
      "source": [
        "## Feature Engineering\r\n"
      ]
    },
    {
      "cell_type": "markdown",
      "metadata": {
        "id": "AvbDUdZp4wh-"
      },
      "source": [
        "Based on some common sense: Since the objective is to predict readmissions, those patients who died during this hospital admission were excluded. Encounters with “Discharge disposition” values of 11, 13, 14, 19, 20, or 21 are related to death or hospice which mean these patients cannot be readmitted.\r\n"
      ]
    },
    {
      "cell_type": "code",
      "metadata": {
        "colab": {
          "base_uri": "https://localhost:8080/"
        },
        "id": "w37W7fnZCDhV",
        "outputId": "79dbf716-5328-455e-bfc6-07b3c93da155"
      },
      "source": [
        "data['discharge_disposition_id'].nunique()"
      ],
      "execution_count": 19,
      "outputs": [
        {
          "output_type": "execute_result",
          "data": {
            "text/plain": [
              "26"
            ]
          },
          "metadata": {
            "tags": []
          },
          "execution_count": 19
        }
      ]
    },
    {
      "cell_type": "code",
      "metadata": {
        "colab": {
          "base_uri": "https://localhost:8080/"
        },
        "id": "XaVLRcZtEXGO",
        "outputId": "881642ff-fb92-4d0a-9d81-8074b892cd50"
      },
      "source": [
        "data.discharge_disposition_id.unique()"
      ],
      "execution_count": 20,
      "outputs": [
        {
          "output_type": "execute_result",
          "data": {
            "text/plain": [
              "array([25,  1,  3,  6,  2,  5, 11,  7, 10,  4, 14, 18,  8, 13, 12, 16, 17,\n",
              "       22, 23,  9, 20, 15, 24, 28, 19, 27])"
            ]
          },
          "metadata": {
            "tags": []
          },
          "execution_count": 20
        }
      ]
    },
    {
      "cell_type": "code",
      "metadata": {
        "id": "t3wtTOPVEtHT"
      },
      "source": [
        "data = data.loc[~data.discharge_disposition_id.isin([11,13,14,19,20,21])]"
      ],
      "execution_count": 21,
      "outputs": []
    },
    {
      "cell_type": "code",
      "metadata": {
        "colab": {
          "base_uri": "https://localhost:8080/"
        },
        "id": "jxAiqLd8HeUP",
        "outputId": "f265380b-4ff3-4f90-9795-9b7b2df8c280"
      },
      "source": [
        "~data.discharge_disposition_id.isin([11,13,14,19,20,21])"
      ],
      "execution_count": 22,
      "outputs": [
        {
          "output_type": "execute_result",
          "data": {
            "text/plain": [
              "0         True\n",
              "1         True\n",
              "2         True\n",
              "3         True\n",
              "4         True\n",
              "          ... \n",
              "101761    True\n",
              "101762    True\n",
              "101763    True\n",
              "101764    True\n",
              "101765    True\n",
              "Name: discharge_disposition_id, Length: 99343, dtype: bool"
            ]
          },
          "metadata": {
            "tags": []
          },
          "execution_count": 22
        }
      ]
    },
    {
      "cell_type": "code",
      "metadata": {
        "id": "XTozeldmIJtP"
      },
      "source": [
        "data=data.loc[~data.discharge_disposition_id.isin([11,13,14,19,20,21])]"
      ],
      "execution_count": 23,
      "outputs": []
    },
    {
      "cell_type": "code",
      "metadata": {
        "colab": {
          "base_uri": "https://localhost:8080/"
        },
        "id": "OsTTSffzI0N9",
        "outputId": "5a50b2ab-4b98-454a-de6c-aee3ad8b91af"
      },
      "source": [
        "data.shape"
      ],
      "execution_count": 24,
      "outputs": [
        {
          "output_type": "execute_result",
          "data": {
            "text/plain": [
              "(99343, 43)"
            ]
          },
          "metadata": {
            "tags": []
          },
          "execution_count": 24
        }
      ]
    },
    {
      "cell_type": "markdown",
      "metadata": {
        "id": "NaFlIIfj47Xm"
      },
      "source": [
        "Admission type has 9 values, including emergency, urgent, elective, newborn, and not available.."
      ]
    },
    {
      "cell_type": "code",
      "metadata": {
        "id": "ZtZDaBZHJKBx"
      },
      "source": [
        "data.admission_type_id.replace([2,7,6,8],[1,1,5,5], inplace=True)"
      ],
      "execution_count": 30,
      "outputs": []
    },
    {
      "cell_type": "code",
      "metadata": {
        "id": "z11yObs5K-6a"
      },
      "source": [
        "data.admission_type_id.replace([1,5,3,4],[\"Emergency\",\"Other\",\"Elective\",\"Newborn\"], inplace=True)"
      ],
      "execution_count": 31,
      "outputs": []
    },
    {
      "cell_type": "markdown",
      "metadata": {
        "id": "eyql3nOE4_nZ"
      },
      "source": [
        "Admission source has 21 values, including physician referral, emergency room, and transfer from a hospital....."
      ]
    },
    {
      "cell_type": "code",
      "metadata": {
        "id": "IPRd2m4DNjb3"
      },
      "source": [
        "data.admission_source_id.replace([1,2,3], 'Physician Referral', inplace=True)"
      ],
      "execution_count": 25,
      "outputs": []
    },
    {
      "cell_type": "code",
      "metadata": {
        "id": "KyVercpsPgms"
      },
      "source": [
        "data.admission_source_id.replace([4,5,6,8,9,10,11,12,13,14,15,17,18,19,20,21,22,23,24,25,26], \r\n",
        "                                 'Other', inplace=True)"
      ],
      "execution_count": 26,
      "outputs": []
    },
    {
      "cell_type": "code",
      "metadata": {
        "colab": {
          "base_uri": "https://localhost:8080/"
        },
        "id": "h_si020eROhs",
        "outputId": "95c482b9-ed82-4bdc-bbf0-25aed457cdc8"
      },
      "source": [
        "data.admission_source_id.unique()"
      ],
      "execution_count": 27,
      "outputs": [
        {
          "output_type": "execute_result",
          "data": {
            "text/plain": [
              "array(['Physician Referral', 7, 'Other'], dtype=object)"
            ]
          },
          "metadata": {
            "tags": []
          },
          "execution_count": 27
        }
      ]
    },
    {
      "cell_type": "code",
      "metadata": {
        "id": "3Sz7u2BbP98g"
      },
      "source": [
        "data.admission_source_id.replace(7, 'Emergency Room', inplace=True)  "
      ],
      "execution_count": 28,
      "outputs": []
    },
    {
      "cell_type": "markdown",
      "metadata": {
        "id": "fPUClqza5fzA"
      },
      "source": [
        "Discharge disposition has 29 values, for example, discharged to home, expired, and not available......"
      ]
    },
    {
      "cell_type": "code",
      "metadata": {
        "colab": {
          "base_uri": "https://localhost:8080/"
        },
        "id": "OBTYS5nVQ0fT",
        "outputId": "cfe6105f-92f2-48c2-8184-cbe0aaff3d78"
      },
      "source": [
        "data.discharge_disposition_id.unique()"
      ],
      "execution_count": 32,
      "outputs": [
        {
          "output_type": "execute_result",
          "data": {
            "text/plain": [
              "array([25,  1,  3,  6,  2,  5,  7, 10,  4, 18,  8, 12, 16, 17, 22, 23,  9,\n",
              "       15, 24, 28, 27])"
            ]
          },
          "metadata": {
            "tags": []
          },
          "execution_count": 32
        }
      ]
    },
    {
      "cell_type": "code",
      "metadata": {
        "id": "wHsTVLwESx1S"
      },
      "source": [
        "data.discharge_disposition_id.replace([25,  3,  6,  2,  5,  7, 10,  4, 18,  8, 12, 16, 17, 22, 23,  9,\r\n",
        "       15, 24, 28, 27],'other', inplace=True)"
      ],
      "execution_count": 33,
      "outputs": []
    },
    {
      "cell_type": "code",
      "metadata": {
        "id": "9GVfU8okTG2f"
      },
      "source": [
        "data.discharge_disposition_id.replace(1,'Home', inplace=True)"
      ],
      "execution_count": 34,
      "outputs": []
    },
    {
      "cell_type": "markdown",
      "metadata": {
        "id": "l5272tsI5qw4"
      },
      "source": [
        "The 'diag_1',diag_2,diag_3 contained three diagnoses for a given patient (primary, secondary and additional). However, each of these had 700-900 unique ICD codes and it is extremely difficult to include them in the model and interpret them meaningfully. Therefore, these diagnosis codes were collapsed into 9 disease categories, which include Circulatory, Respiratory, Digestive, Diabetes, Injury, Musculoskeletal, Genitourinary, Neoplasms, and Others"
      ]
    },
    {
      "cell_type": "code",
      "metadata": {
        "id": "dpzw0r-fTqHK"
      },
      "source": [
        "import re\r\n",
        "import numpy as np\r\n",
        "def transformFunc(value):\r\n",
        "    value = re.sub(\"V[0-9]*\", \"0\", value) # V \r\n",
        "    value = re.sub(\"E[0-9]*\", \"0\", value) # E \r\n",
        "    value = re.sub('NaN', \"-1\", value) # Nan \r\n",
        "    return value"
      ],
      "execution_count": 35,
      "outputs": []
    },
    {
      "cell_type": "code",
      "metadata": {
        "id": "4F1OoFaFHqLg"
      },
      "source": [
        "diag_list = ['diag_1','diag_2','diag_3']"
      ],
      "execution_count": 36,
      "outputs": []
    },
    {
      "cell_type": "code",
      "metadata": {
        "id": "Nv71uWsiVacF"
      },
      "source": [
        "for col in diag_list:\r\n",
        "    data[col] = data[col].astype(str)\r\n",
        "    data[col] = data[col].apply(transformFunc)\r\n",
        "    data[col] = data[col].astype(float)"
      ],
      "execution_count": 37,
      "outputs": []
    },
    {
      "cell_type": "code",
      "metadata": {
        "id": "7AB9M1AFXXGB"
      },
      "source": [
        "def transformCategory(value):\r\n",
        "    if value>=390 and value<=459 or value==785:\r\n",
        "        category = 'Circulatory'\r\n",
        "    elif value>=460 and value<=519 or value==786:\r\n",
        "        category = 'Respiratory'\r\n",
        "    elif value>=520 and value<=579 or value==787:\r\n",
        "        category = 'Digestive'\r\n",
        "    elif value==250:\r\n",
        "        category = 'Diabetes'\r\n",
        "    elif value>=800 and value<=999:\r\n",
        "        category = 'Injury'          \r\n",
        "    elif value>=710 and value<=739:\r\n",
        "        category = 'Musculoskeletal'   \r\n",
        "    elif value>=580 and value<=629 or value==788:\r\n",
        "        category = 'Genitourinary'\r\n",
        "    elif value>=140 and value<=239 :\r\n",
        "        category = 'Neoplasms'\r\n",
        "    elif value==-1:\r\n",
        "        category = 'NAN'\r\n",
        "    else :\r\n",
        "        category = 'Other'\r\n",
        "\r\n",
        "    return category\r\n",
        "    \r\n",
        "for col in diag_list:\r\n",
        "    data[col] = data[col].apply(transformCategory)"
      ],
      "execution_count": 38,
      "outputs": []
    },
    {
      "cell_type": "code",
      "metadata": {
        "id": "xz82_Pi0XaB8"
      },
      "source": [
        "keys = ['metformin', 'repaglinide', 'nateglinide', 'chlorpropamide', 'glimepiride', 'glipizide', 'glyburide', 'pioglitazone',\r\n",
        "        'rosiglitazone', 'acarbose', 'miglitol', 'insulin', 'glyburide-metformin', 'tolazamide', 'metformin-pioglitazone',\r\n",
        "        'metformin-rosiglitazone', 'glimepiride-pioglitazone', 'glipizide-metformin', 'troglitazone', 'tolbutamide', 'acetohexamide']\r\n",
        "\r\n",
        "for col in keys:\r\n",
        "    data[col] = data[col].replace(['No','Steady','Up','Down'],[0,1,1,1])\r\n",
        "    data[col] = data[col].astype(int)"
      ],
      "execution_count": 39,
      "outputs": []
    },
    {
      "cell_type": "code",
      "metadata": {
        "id": "3_wTpRnYaDz4"
      },
      "source": [
        "# A1Cresult and max_glu_serum\r\n",
        "data['A1Cresult'] = data['A1Cresult'].replace(['>7','>8','Norm','None'],[1,1,0,-99])\r\n",
        "data['max_glu_serum'] = data['max_glu_serum'].replace(['>200','>300','Norm','None'],[1,1,0,-99])"
      ],
      "execution_count": 40,
      "outputs": []
    },
    {
      "cell_type": "code",
      "metadata": {
        "colab": {
          "base_uri": "https://localhost:8080/"
        },
        "id": "-RZBLZlhaIW-",
        "outputId": "5a478f87-6735-4a78-c303-a5789876c209"
      },
      "source": [
        "data.isnull().sum()"
      ],
      "execution_count": 41,
      "outputs": [
        {
          "output_type": "execute_result",
          "data": {
            "text/plain": [
              "race                        0\n",
              "gender                      0\n",
              "age                         0\n",
              "admission_type_id           0\n",
              "discharge_disposition_id    0\n",
              "admission_source_id         0\n",
              "time_in_hospital            0\n",
              "num_lab_procedures          0\n",
              "num_procedures              0\n",
              "num_medications             0\n",
              "number_outpatient           0\n",
              "number_emergency            0\n",
              "number_inpatient            0\n",
              "diag_1                      0\n",
              "diag_2                      0\n",
              "diag_3                      0\n",
              "number_diagnoses            0\n",
              "max_glu_serum               0\n",
              "A1Cresult                   0\n",
              "metformin                   0\n",
              "repaglinide                 0\n",
              "nateglinide                 0\n",
              "chlorpropamide              0\n",
              "glimepiride                 0\n",
              "acetohexamide               0\n",
              "glipizide                   0\n",
              "glyburide                   0\n",
              "tolbutamide                 0\n",
              "pioglitazone                0\n",
              "rosiglitazone               0\n",
              "acarbose                    0\n",
              "miglitol                    0\n",
              "troglitazone                0\n",
              "tolazamide                  0\n",
              "insulin                     0\n",
              "glyburide-metformin         0\n",
              "glipizide-metformin         0\n",
              "glimepiride-pioglitazone    0\n",
              "metformin-rosiglitazone     0\n",
              "metformin-pioglitazone      0\n",
              "change                      0\n",
              "diabetesMed                 0\n",
              "readmitted                  0\n",
              "dtype: int64"
            ]
          },
          "metadata": {
            "tags": []
          },
          "execution_count": 41
        }
      ]
    },
    {
      "cell_type": "markdown",
      "metadata": {
        "id": "ElNFnRVf7ihN"
      },
      "source": [
        "##Encoding of data"
      ]
    },
    {
      "cell_type": "code",
      "metadata": {
        "id": "rA6_vU6TIdaG"
      },
      "source": [
        "data = pd.get_dummies(data, columns=['race'], prefix=[\"enc\"])"
      ],
      "execution_count": 42,
      "outputs": []
    },
    {
      "cell_type": "code",
      "metadata": {
        "id": "uQYX4YCqJIQu"
      },
      "source": [
        "ordinal_enc = OrdinalEncoder()\r\n",
        "data.age = ordinal_enc.fit_transform(data.age.values.reshape(-1, 1))"
      ],
      "execution_count": 43,
      "outputs": []
    },
    {
      "cell_type": "code",
      "metadata": {
        "id": "BIBDXnBSKAnu"
      },
      "source": [
        "for col in diag_list:\r\n",
        "    label_enc = LabelEncoder()\r\n",
        "    data[col] = label_enc.fit_transform(data[col])"
      ],
      "execution_count": 44,
      "outputs": []
    },
    {
      "cell_type": "code",
      "metadata": {
        "colab": {
          "base_uri": "https://localhost:8080/"
        },
        "id": "MB6yMH78Kkt1",
        "outputId": "eecc5fca-89e9-4d4c-b4f1-ea9241035719"
      },
      "source": [
        "!pip install Category_encoders"
      ],
      "execution_count": 45,
      "outputs": [
        {
          "output_type": "stream",
          "text": [
            "Collecting Category_encoders\n",
            "\u001b[?25l  Downloading https://files.pythonhosted.org/packages/44/57/fcef41c248701ee62e8325026b90c432adea35555cbc870aff9cfba23727/category_encoders-2.2.2-py2.py3-none-any.whl (80kB)\n",
            "\r\u001b[K     |████                            | 10kB 17.0MB/s eta 0:00:01\r\u001b[K     |████████▏                       | 20kB 19.0MB/s eta 0:00:01\r\u001b[K     |████████████▏                   | 30kB 7.8MB/s eta 0:00:01\r\u001b[K     |████████████████▎               | 40kB 6.7MB/s eta 0:00:01\r\u001b[K     |████████████████████▎           | 51kB 4.4MB/s eta 0:00:01\r\u001b[K     |████████████████████████▍       | 61kB 4.7MB/s eta 0:00:01\r\u001b[K     |████████████████████████████▍   | 71kB 5.0MB/s eta 0:00:01\r\u001b[K     |████████████████████████████████| 81kB 3.6MB/s \n",
            "\u001b[?25hRequirement already satisfied: patsy>=0.5.1 in /usr/local/lib/python3.6/dist-packages (from Category_encoders) (0.5.1)\n",
            "Requirement already satisfied: pandas>=0.21.1 in /usr/local/lib/python3.6/dist-packages (from Category_encoders) (1.1.5)\n",
            "Requirement already satisfied: statsmodels>=0.9.0 in /usr/local/lib/python3.6/dist-packages (from Category_encoders) (0.10.2)\n",
            "Requirement already satisfied: numpy>=1.14.0 in /usr/local/lib/python3.6/dist-packages (from Category_encoders) (1.18.5)\n",
            "Requirement already satisfied: scipy>=1.0.0 in /usr/local/lib/python3.6/dist-packages (from Category_encoders) (1.4.1)\n",
            "Requirement already satisfied: scikit-learn>=0.20.0 in /usr/local/lib/python3.6/dist-packages (from Category_encoders) (0.22.2.post1)\n",
            "Requirement already satisfied: six in /usr/local/lib/python3.6/dist-packages (from patsy>=0.5.1->Category_encoders) (1.15.0)\n",
            "Requirement already satisfied: python-dateutil>=2.7.3 in /usr/local/lib/python3.6/dist-packages (from pandas>=0.21.1->Category_encoders) (2.8.1)\n",
            "Requirement already satisfied: pytz>=2017.2 in /usr/local/lib/python3.6/dist-packages (from pandas>=0.21.1->Category_encoders) (2018.9)\n",
            "Requirement already satisfied: joblib>=0.11 in /usr/local/lib/python3.6/dist-packages (from scikit-learn>=0.20.0->Category_encoders) (0.17.0)\n",
            "Installing collected packages: Category-encoders\n",
            "Successfully installed Category-encoders-2.2.2\n"
          ],
          "name": "stdout"
        }
      ]
    },
    {
      "cell_type": "code",
      "metadata": {
        "colab": {
          "base_uri": "https://localhost:8080/"
        },
        "id": "_KQ9qDL6KX9H",
        "outputId": "43c50b82-1e9c-4cd0-ef3e-eca6d4b68ba8"
      },
      "source": [
        "binary = ['change', 'diabetesMed', 'gender']\r\n",
        "\r\n",
        "from category_encoders import BinaryEncoder\r\n",
        "binary_enc = BinaryEncoder(cols=binary)\r\n",
        "data = binary_enc.fit_transform(data)\r\n"
      ],
      "execution_count": 46,
      "outputs": [
        {
          "output_type": "stream",
          "text": [
            "/usr/local/lib/python3.6/dist-packages/statsmodels/tools/_testing.py:19: FutureWarning: pandas.util.testing is deprecated. Use the functions in the public API at pandas.testing instead.\n",
            "  import pandas.util.testing as tm\n",
            "/usr/local/lib/python3.6/dist-packages/category_encoders/utils.py:21: FutureWarning: is_categorical is deprecated and will be removed in a future version.  Use is_categorical_dtype instead\n",
            "  elif pd.api.types.is_categorical(cols):\n"
          ],
          "name": "stderr"
        }
      ]
    },
    {
      "cell_type": "code",
      "metadata": {
        "id": "srBpZdaCK4pA"
      },
      "source": [
        "data = pd.get_dummies(data, columns=['admission_type_id', 'discharge_disposition_id', 'admission_source_id'])"
      ],
      "execution_count": 47,
      "outputs": []
    },
    {
      "cell_type": "markdown",
      "metadata": {
        "id": "rwBtWRHy7ufW"
      },
      "source": [
        "## Train-test splitting"
      ]
    },
    {
      "cell_type": "code",
      "metadata": {
        "id": "2kARqEpXLM6B"
      },
      "source": [
        "df = data.copy()\r\n",
        "X = df.drop(columns=\"readmitted\", axis=1)\r\n",
        "Y = df.readmitted"
      ],
      "execution_count": 49,
      "outputs": []
    },
    {
      "cell_type": "code",
      "metadata": {
        "id": "Z-S64HemLaiG"
      },
      "source": [
        "\r\n",
        "X_train, X_test, y_train, y_test = train_test_split(X, Y, test_size = 0.20, random_state = 42)"
      ],
      "execution_count": 52,
      "outputs": []
    },
    {
      "cell_type": "markdown",
      "metadata": {
        "id": "cY1MHoMs70_5"
      },
      "source": [
        "## resampling\r\n",
        "the data is not balanced"
      ]
    },
    {
      "cell_type": "code",
      "metadata": {
        "colab": {
          "base_uri": "https://localhost:8080/"
        },
        "id": "tdJp8m9Talf9",
        "outputId": "61a60fb3-7f8c-49d4-f767-b12ff47c3b28"
      },
      "source": [
        "from sklearn.utils import resample\r\n",
        "\r\n",
        "X = pd.concat([X_train, y_train], axis=1)\r\n",
        "\r\n",
        "not_readmitted = X[X.readmitted==0]\r\n",
        "readmitted = X[X.readmitted==1]\r\n",
        "\r\n",
        "not_readmitted_sampled = resample(not_readmitted,\r\n",
        "                                replace = False, \r\n",
        "                                n_samples = len(readmitted),\r\n",
        "                                random_state = 42)\r\n",
        "\r\n",
        "downsampled = pd.concat([not_readmitted_sampled, readmitted])\r\n",
        "\r\n",
        "downsampled.readmitted.value_counts()"
      ],
      "execution_count": 53,
      "outputs": [
        {
          "output_type": "execute_result",
          "data": {
            "text/plain": [
              "1    9037\n",
              "0    9037\n",
              "Name: readmitted, dtype: int64"
            ]
          },
          "metadata": {
            "tags": []
          },
          "execution_count": 53
        }
      ]
    },
    {
      "cell_type": "code",
      "metadata": {
        "id": "ywJlwtpAa7eh"
      },
      "source": [
        "y_train = downsampled.readmitted\r\n",
        "X_train = downsampled.drop('readmitted', axis=1)"
      ],
      "execution_count": 54,
      "outputs": []
    },
    {
      "cell_type": "markdown",
      "metadata": {
        "id": "iVYFeQ218DX8"
      },
      "source": [
        "##train val splitting"
      ]
    },
    {
      "cell_type": "code",
      "metadata": {
        "id": "OQUBcyljLplA"
      },
      "source": [
        "X_train, X_val, y_train, y_val = train_test_split(X_train, y_train, test_size = 0.30, random_state = 42)"
      ],
      "execution_count": 55,
      "outputs": []
    },
    {
      "cell_type": "markdown",
      "metadata": {
        "id": "nVB6ODCg8hA5"
      },
      "source": [
        "## Base model"
      ]
    },
    {
      "cell_type": "markdown",
      "metadata": {
        "id": "5TKh_un69sMD"
      },
      "source": [
        "### Logistic regression"
      ]
    },
    {
      "cell_type": "code",
      "metadata": {
        "id": "4-bnEM8pLv4W"
      },
      "source": [
        "log_model = LogisticRegression(solver = \"liblinear\",class_weight=\"balanced\",random_state = 42).fit(X_train, y_train)"
      ],
      "execution_count": 56,
      "outputs": []
    },
    {
      "cell_type": "code",
      "metadata": {
        "colab": {
          "base_uri": "https://localhost:8080/"
        },
        "id": "CP9A8Dg7QL3x",
        "outputId": "30d9ad28-9c2a-452e-9561-18a62aa9590b"
      },
      "source": [
        "y_train_preds = log_model.predict_proba(X_train)[:,1]\r\n",
        "y_val_preds = log_model.predict_proba(X_val)[:,1]\r\n",
        "\r\n",
        "print(\"Logistic Regression\")\r\n",
        "print('Training:')\r\n",
        "lr_train_auc = roc_auc_score(y_train, y_train_preds) \r\n",
        "lr_train_accuracy = accuracy_score(y_train, (y_train_preds>0.5))\r\n",
        "lr_train_recall = recall_score(y_train, (y_train_preds>0.5))\r\n",
        "lr_train_precision = precision_score(y_train, (y_train_preds>0.5))\r\n",
        "lr_train_fscore = f1_score(y_train, (y_train_preds>0.5))\r\n",
        "print('AUC:  ', lr_train_auc)\r\n",
        "print('accuracy:  ', lr_train_accuracy)\r\n",
        "print('recall:  ',lr_train_recall)\r\n",
        "print('precision:  ',lr_train_precision)\r\n",
        "print('fscore:   ',lr_train_fscore)\r\n",
        "print('Validation:')\r\n",
        "lr_val_auc = roc_auc_score(y_val, y_val_preds)\r\n",
        "lr_val_accuracy = accuracy_score(y_val, (y_val_preds>0.5))\r\n",
        "lr_val_recall = recall_score(y_val, (y_val_preds>0.5))\r\n",
        "lr_val_precision = precision_score(y_val, (y_val_preds>0.5))\r\n",
        "lr_val_fscore = f1_score(y_val, (y_val_preds>0.5))\r\n",
        "print('AUC:  ', lr_val_auc)\r\n",
        "print('accuracy:  ', lr_val_accuracy)\r\n",
        "print('recall:  ', lr_val_precision)\r\n",
        "print('fscore:   ', lr_val_fscore)\r\n"
      ],
      "execution_count": 57,
      "outputs": [
        {
          "output_type": "stream",
          "text": [
            "Logistic Regression\n",
            "Training:\n",
            "AUC:   0.650521895111724\n",
            "accuracy:   0.6025610623666113\n",
            "recall:   0.549492385786802\n",
            "precision:   0.6128803963198868\n",
            "fscore:    0.5794580127132821\n",
            "Validation:\n",
            "AUC:   0.6465409010347167\n",
            "accuracy:   0.6040936750875899\n",
            "recall:   0.6213753106876554\n",
            "fscore:    0.5828638041577618\n"
          ],
          "name": "stdout"
        }
      ]
    },
    {
      "cell_type": "code",
      "metadata": {
        "colab": {
          "base_uri": "https://localhost:8080/",
          "height": 352
        },
        "id": "Sq2mNOcmUUE-",
        "outputId": "ecef66de-4fb7-4ce7-d0d5-d265b4b4eaee"
      },
      "source": [
        "# Confusion Matrix\r\n",
        "\r\n",
        "predictions = log_model.predict(X_train)\r\n",
        "train_score = round(accuracy_score(y_train, predictions), 3)\r\n",
        "cm_train = cm(y_train, predictions)\r\n",
        "\r\n",
        "predictions = log_model.predict(X_val)\r\n",
        "val_score = round(accuracy_score(y_val, predictions), 3)\r\n",
        "cm_val = cm(y_val, predictions)\r\n",
        "\r\n",
        "fig, (ax1,ax2) = plt.subplots(nrows=1,ncols=2,figsize=(15,5)) \r\n",
        "sns.heatmap(cm_train, annot=True, fmt=\".0f\",ax=ax1)\r\n",
        "ax1.set_xlabel('Predicted Values')\r\n",
        "ax1.set_ylabel('Actual Values')\r\n",
        "ax1.set_title('Train Accuracy Score: {0}'.format(train_score), size = 15)\r\n",
        "sns.heatmap(cm_val, annot=True, fmt=\".0f\",ax=ax2)\r\n",
        "ax2.set_xlabel('Predicted Values')\r\n",
        "ax2.set_ylabel('Actual Values')\r\n",
        "ax2.set_title('Validation Accuracy Score: {0}'.format(val_score), size = 15)\r\n",
        "plt.show()"
      ],
      "execution_count": 58,
      "outputs": [
        {
          "output_type": "display_data",
          "data": {
            "image/png": "[encoded data removed]",
            "text/plain": [
              "<Figure size 1080x360 with 4 Axes>"
            ]
          },
          "metadata": {
            "tags": [],
            "needs_background": "light"
          }
        }
      ]
    },
    {
      "cell_type": "markdown",
      "metadata": {
        "id": "bNmgSVel-UNr"
      },
      "source": [
        "### Random Forest"
      ]
    },
    {
      "cell_type": "code",
      "metadata": {
        "colab": {
          "base_uri": "https://localhost:8080/"
        },
        "id": "RdQ7ZDZ0Uxbb",
        "outputId": "935b1191-1925-41b6-b270-36478a4b84db"
      },
      "source": [
        "random_forest_model = RandomForestClassifier(random_state=42, n_jobs=-1, n_estimators=100, max_depth=3)\r\n",
        "random_forest_model.fit(X_train, y_train) "
      ],
      "execution_count": 59,
      "outputs": [
        {
          "output_type": "execute_result",
          "data": {
            "text/plain": [
              "RandomForestClassifier(bootstrap=True, ccp_alpha=0.0, class_weight=None,\n",
              "                       criterion='gini', max_depth=3, max_features='auto',\n",
              "                       max_leaf_nodes=None, max_samples=None,\n",
              "                       min_impurity_decrease=0.0, min_impurity_split=None,\n",
              "                       min_samples_leaf=1, min_samples_split=2,\n",
              "                       min_weight_fraction_leaf=0.0, n_estimators=100,\n",
              "                       n_jobs=-1, oob_score=False, random_state=42, verbose=0,\n",
              "                       warm_start=False)"
            ]
          },
          "metadata": {
            "tags": []
          },
          "execution_count": 59
        }
      ]
    },
    {
      "cell_type": "code",
      "metadata": {
        "colab": {
          "base_uri": "https://localhost:8080/"
        },
        "id": "HVK7ZFnmUxhf",
        "outputId": "0f800992-7e32-4fe5-e7bc-65706b48adf3"
      },
      "source": [
        "y_train_preds = random_forest_model.predict_proba(X_train)[:,1]\r\n",
        "y_val_preds = random_forest_model.predict_proba(X_val)[:,1]\r\n",
        "\r\n",
        "print(\"Random Forest\")\r\n",
        "print('Training:')\r\n",
        "rf_train_auc = roc_auc_score(y_train, y_train_preds) \r\n",
        "rf_train_accuracy = accuracy_score(y_train, (y_train_preds>0.5))\r\n",
        "rf_train_recall = recall_score(y_train, (y_train_preds>0.5))\r\n",
        "rf_train_precision = precision_score(y_train, (y_train_preds>0.5))\r\n",
        "rf_train_fscore = f1_score(y_train, (y_train_preds>0.5))\r\n",
        "print('AUC:  ', rf_train_auc)\r\n",
        "print('accuracy:  ', rf_train_accuracy)\r\n",
        "print('recall:  ',rf_train_recall)\r\n",
        "print('precision:  ',rf_train_precision)\r\n",
        "print('fscore:   ',rf_train_fscore)\r\n",
        "print('Validation:')\r\n",
        "rf_val_auc = roc_auc_score(y_val, y_val_preds)\r\n",
        "rf_val_accuracy = accuracy_score(y_val, (y_val_preds>0.5))\r\n",
        "rf_val_recall = recall_score(y_val, (y_val_preds>0.5))\r\n",
        "rf_val_precision = precision_score(y_val, (y_val_preds>0.5))\r\n",
        "rf_val_fscore = f1_score(y_val, (y_val_preds>0.5))\r\n",
        "print('AUC:  ', rf_val_auc)\r\n",
        "print('accuracy:  ', rf_val_accuracy)\r\n",
        "print('recall:  ', rf_val_precision)\r\n",
        "print('fscore:   ', rf_val_fscore)"
      ],
      "execution_count": 60,
      "outputs": [
        {
          "output_type": "stream",
          "text": [
            "Random Forest\n",
            "Training:\n",
            "AUC:   0.6483827094858357\n",
            "accuracy:   0.610149395304719\n",
            "recall:   0.641497461928934\n",
            "precision:   0.6021441334127456\n",
            "fscore:    0.6211981566820276\n",
            "Validation:\n",
            "AUC:   0.6429302739340322\n",
            "accuracy:   0.6079660704407155\n",
            "recall:   0.6068285814853924\n",
            "fscore:    0.6185862935055615\n"
          ],
          "name": "stdout"
        }
      ]
    },
    {
      "cell_type": "code",
      "metadata": {
        "colab": {
          "base_uri": "https://localhost:8080/",
          "height": 352
        },
        "id": "S6r5z7IbUxnu",
        "outputId": "200e5a32-3a06-4d57-d180-45b9592992f0"
      },
      "source": [
        "predictions = random_forest_model.predict(X_train)\r\n",
        "train_score = round(accuracy_score(y_train, predictions), 3)\r\n",
        "cm_train = cm(y_train, predictions)\r\n",
        "\r\n",
        "predictions = random_forest_model.predict(X_val)\r\n",
        "val_score = round(accuracy_score(y_val, predictions), 3)\r\n",
        "cm_val = cm(y_val, predictions)\r\n",
        "\r\n",
        "fig, (ax1,ax2) = plt.subplots(nrows=1,ncols=2,figsize=(15,5)) \r\n",
        "sns.heatmap(cm_train, annot=True, fmt=\".0f\",ax=ax1)\r\n",
        "ax1.set_xlabel('Predicted Values')\r\n",
        "ax1.set_ylabel('Actual Values')\r\n",
        "ax1.set_title('Train Accuracy Score: {0}'.format(train_score), size = 15)\r\n",
        "sns.heatmap(cm_val, annot=True, fmt=\".0f\",ax=ax2)\r\n",
        "ax2.set_xlabel('Predicted Values')\r\n",
        "ax2.set_ylabel('Actual Values')\r\n",
        "ax2.set_title('Validation Accuracy Score: {0}'.format(val_score), size = 15)\r\n",
        "plt.show()"
      ],
      "execution_count": 61,
      "outputs": [
        {
          "output_type": "display_data",
          "data": {
            "image/png": "[encoded data removed]",
            "text/plain": [
              "<Figure size 1080x360 with 4 Axes>"
            ]
          },
          "metadata": {
            "tags": [],
            "needs_background": "light"
          }
        }
      ]
    },
    {
      "cell_type": "markdown",
      "metadata": {
        "id": "j1VT0JPe-epD"
      },
      "source": [
        "### xgb"
      ]
    },
    {
      "cell_type": "code",
      "metadata": {
        "colab": {
          "base_uri": "https://localhost:8080/"
        },
        "id": "LF-Vpf_LUxrx",
        "outputId": "5880ced9-16dd-4d41-a389-499ee69368bb"
      },
      "source": [
        "xgb_model = XGBClassifier(random_state=42, n_jobs=-1,max_depth=3)\r\n",
        "xgb_model.fit(X_train, y_train)"
      ],
      "execution_count": 62,
      "outputs": [
        {
          "output_type": "execute_result",
          "data": {
            "text/plain": [
              "XGBClassifier(base_score=0.5, booster='gbtree', colsample_bylevel=1,\n",
              "              colsample_bynode=1, colsample_bytree=1, gamma=0,\n",
              "              learning_rate=0.1, max_delta_step=0, max_depth=3,\n",
              "              min_child_weight=1, missing=None, n_estimators=100, n_jobs=-1,\n",
              "              nthread=None, objective='binary:logistic', random_state=42,\n",
              "              reg_alpha=0, reg_lambda=1, scale_pos_weight=1, seed=None,\n",
              "              silent=None, subsample=1, verbosity=1)"
            ]
          },
          "metadata": {
            "tags": []
          },
          "execution_count": 62
        }
      ]
    },
    {
      "cell_type": "code",
      "metadata": {
        "colab": {
          "base_uri": "https://localhost:8080/"
        },
        "id": "F7m0YhksUxxX",
        "outputId": "d6053bec-e6df-48c6-eb2f-f1534767b2e4"
      },
      "source": [
        "\r\n",
        "print(\"XGBOOST\")\r\n",
        "y_train_preds = xgb_model.predict_proba(X_train)[:,1]\r\n",
        "y_val_preds = xgb_model.predict_proba(X_val)[:,1]\r\n",
        "\r\n",
        "print('Training:')\r\n",
        "\r\n",
        "xgb_train_auc = roc_auc_score(y_train, y_train_preds) \r\n",
        "xgb_train_accuracy = accuracy_score(y_train, (y_train_preds>0.5))\r\n",
        "xgb_train_recall = recall_score(y_train, (y_train_preds>0.5))\r\n",
        "xgb_train_precision = precision_score(y_train, (y_train_preds>0.5))\r\n",
        "xgb_train_fscore = f1_score(y_train, (y_train_preds>0.5))\r\n",
        "print('AUC:  ', xgb_train_auc)\r\n",
        "print('accuracy:  ', xgb_train_accuracy)\r\n",
        "print('recall:  ',xgb_train_recall)\r\n",
        "print('precision:  ',xgb_train_precision)\r\n",
        "print('fscore:   ',xgb_train_fscore)\r\n",
        "print('Validation:')\r\n",
        "xgb_val_auc = roc_auc_score(y_val, y_val_preds)\r\n",
        "xgb_val_accuracy = accuracy_score(y_val, (y_val_preds>0.5))\r\n",
        "xgb_val_recall = recall_score(y_val, (y_val_preds>0.5))\r\n",
        "xgb_val_precision = precision_score(y_val, (y_val_preds>0.5))\r\n",
        "xgb_val_fscore = f1_score(y_val, (y_val_preds>0.5))\r\n",
        "print('AUC:  ', xgb_val_auc)\r\n",
        "print('accuracy:  ', xgb_val_accuracy)\r\n",
        "print('recall:  ', xgb_val_precision)\r\n",
        "print('fscore:   ', xgb_val_fscore)"
      ],
      "execution_count": 63,
      "outputs": [
        {
          "output_type": "stream",
          "text": [
            "XGBOOST\n",
            "Training:\n",
            "AUC:   0.6862739771137729\n",
            "accuracy:   0.6337048454667615\n",
            "recall:   0.6502220812182741\n",
            "precision:   0.6279105392156863\n",
            "fscore:    0.6388715710723192\n",
            "Validation:\n",
            "AUC:   0.6491508167420906\n",
            "accuracy:   0.6160796607044071\n",
            "recall:   0.6151397240891404\n",
            "fscore:    0.6255395683453238\n"
          ],
          "name": "stdout"
        }
      ]
    },
    {
      "cell_type": "code",
      "metadata": {
        "colab": {
          "base_uri": "https://localhost:8080/",
          "height": 352
        },
        "id": "ND2nFTFfUx02",
        "outputId": "fa7b00af-680e-41cb-e2b1-84fcc3dae38f"
      },
      "source": [
        "# Confusion Matrix\r\n",
        "\r\n",
        "predictions = xgb_model.predict(X_train)\r\n",
        "train_score = round(accuracy_score(y_train, predictions), 3)\r\n",
        "cm_train = cm(y_train, predictions)\r\n",
        "\r\n",
        "predictions = xgb_model.predict(X_val)\r\n",
        "val_score = round(accuracy_score(y_val, predictions), 3)\r\n",
        "cm_val = cm(y_val, predictions)\r\n",
        "\r\n",
        "fig, (ax1,ax2) = plt.subplots(nrows=1,ncols=2,figsize=(15,5)) \r\n",
        "sns.heatmap(cm_train, annot=True, fmt=\".0f\",ax=ax1)\r\n",
        "ax1.set_xlabel('Predicted Values')\r\n",
        "ax1.set_ylabel('Actual Values')\r\n",
        "ax1.set_title('Train Accuracy Score: {0}'.format(train_score), size = 15)\r\n",
        "sns.heatmap(cm_val, annot=True, fmt=\".0f\",ax=ax2)\r\n",
        "ax2.set_xlabel('Predicted Values')\r\n",
        "ax2.set_ylabel('Actual Values')\r\n",
        "ax2.set_title('Validation Accuracy Score: {0}'.format(val_score), size = 15)\r\n",
        "plt.show()"
      ],
      "execution_count": 64,
      "outputs": [
        {
          "output_type": "display_data",
          "data": {
            "image/png": "[encoded data removed]",
            "text/plain": [
              "<Figure size 1080x360 with 4 Axes>"
            ]
          },
          "metadata": {
            "tags": [],
            "needs_background": "light"
          }
        }
      ]
    },
    {
      "cell_type": "markdown",
      "metadata": {
        "id": "QanZIpd--454"
      },
      "source": [
        "### lightgbm"
      ]
    },
    {
      "cell_type": "code",
      "metadata": {
        "colab": {
          "base_uri": "https://localhost:8080/"
        },
        "id": "0OEtBk-AUx3Z",
        "outputId": "cfa05b15-e6ce-43e1-d7e8-3af23fa0cfa3"
      },
      "source": [
        "from lightgbm import LGBMClassifier\r\n",
        "lgbm_model = LGBMClassifier(random_state = 42,max_depth=3)\r\n",
        "lgbm_model.fit(X_train, y_train)"
      ],
      "execution_count": 65,
      "outputs": [
        {
          "output_type": "execute_result",
          "data": {
            "text/plain": [
              "LGBMClassifier(boosting_type='gbdt', class_weight=None, colsample_bytree=1.0,\n",
              "               importance_type='split', learning_rate=0.1, max_depth=3,\n",
              "               min_child_samples=20, min_child_weight=0.001, min_split_gain=0.0,\n",
              "               n_estimators=100, n_jobs=-1, num_leaves=31, objective=None,\n",
              "               random_state=42, reg_alpha=0.0, reg_lambda=0.0, silent=True,\n",
              "               subsample=1.0, subsample_for_bin=200000, subsample_freq=0)"
            ]
          },
          "metadata": {
            "tags": []
          },
          "execution_count": 65
        }
      ]
    },
    {
      "cell_type": "code",
      "metadata": {
        "colab": {
          "base_uri": "https://localhost:8080/"
        },
        "id": "SyemeEj5Ux55",
        "outputId": "134be672-c688-4dc3-8183-88a49d36f961"
      },
      "source": [
        "y_train_preds = lgbm_model.predict_proba(X_train)[:,1]\r\n",
        "y_val_preds = lgbm_model.predict_proba(X_val)[:,1]\r\n",
        "\r\n",
        "print(\"LGBM\")\r\n",
        "print('Training:')\r\n",
        "lgbm_train_auc = roc_auc_score(y_train, y_train_preds) \r\n",
        "lgbm_train_accuracy = accuracy_score(y_train, (y_train_preds>0.5))\r\n",
        "lgbm_train_recall = recall_score(y_train, (y_train_preds>0.5))\r\n",
        "lgbm_train_precision = precision_score(y_train, (y_train_preds>0.5))\r\n",
        "lgbm_train_fscore = f1_score(y_train, (y_train_preds>0.5))\r\n",
        "print('AUC:  ', lgbm_train_auc)\r\n",
        "print('accuracy:  ', lgbm_train_accuracy)\r\n",
        "print('recall:  ',lgbm_train_recall)\r\n",
        "print('precision:  ',lgbm_train_precision)\r\n",
        "print('fscore:   ',lgbm_train_fscore)\r\n",
        "print('Validation:')\r\n",
        "lgbm_val_auc = roc_auc_score(y_val, y_val_preds)\r\n",
        "lgbm_val_accuracy = accuracy_score(y_val, (y_val_preds>0.5))\r\n",
        "lgbm_val_recall = recall_score(y_val, (y_val_preds>0.5))\r\n",
        "lgbm_val_precision = precision_score(y_val, (y_val_preds>0.5))\r\n",
        "lgbm_val_fscore = f1_score(y_val, (y_val_preds>0.5))\r\n",
        "print('AUC:  ', lgbm_val_auc)\r\n",
        "print('accuracy:  ', lgbm_val_accuracy)\r\n",
        "print('recall:  ', lgbm_val_precision)\r\n",
        "print('fscore:   ', lgbm_val_fscore)"
      ],
      "execution_count": 66,
      "outputs": [
        {
          "output_type": "stream",
          "text": [
            "LGBM\n",
            "Training:\n",
            "AUC:   0.6869276393819695\n",
            "accuracy:   0.6348114773535689\n",
            "recall:   0.6513324873096447\n",
            "precision:   0.6289828431372549\n",
            "fscore:    0.6399625935162095\n",
            "Validation:\n",
            "AUC:   0.6486446121138174\n",
            "accuracy:   0.6158952609256869\n",
            "recall:   0.6152482269503546\n",
            "fscore:    0.6248874482261841\n"
          ],
          "name": "stdout"
        }
      ]
    },
    {
      "cell_type": "code",
      "metadata": {
        "colab": {
          "base_uri": "https://localhost:8080/",
          "height": 369
        },
        "id": "NZ4YAP90Ux9B",
        "outputId": "fe57b7e5-19f1-4ff9-a9c1-4f149f49ccd3"
      },
      "source": [
        "# Confusion Matrix\r\n",
        "\r\n",
        "predictions = lgbm_model.predict(X_train)\r\n",
        "train_score = round(accuracy_score(y_train, predictions), 3)\r\n",
        "cm_train = cm(y_train, predictions)\r\n",
        "\r\n",
        "predictions = lgbm_model.predict(X_val)\r\n",
        "val_score = round(accuracy_score(y_val, predictions), 3)\r\n",
        "cm_val = cm(y_val, predictions)\r\n",
        "\r\n",
        "fig, (ax1,ax2) = plt.subplots(nrows=1,ncols=2,figsize=(15,5)) \r\n",
        "sns.heatmap(cm_train, annot=True, fmt=\".0f\",ax=ax1)\r\n",
        "ax1.set_xlabel('Predicted Values')\r\n",
        "ax1.set_ylabel('Actual Values')\r\n",
        "ax1.set_title('Train Accuracy Score: {0}'.format(train_score), size = 15)\r\n",
        "sns.heatmap(cm_val, annot=True, fmt=\".0f\",ax=ax2)\r\n",
        "ax2.set_xlabel('Predicted Values')\r\n",
        "ax2.set_ylabel('Actual Values')\r\n",
        "ax2.set_title('Validation Accuracy Score: {0}'.format(val_score), size = 15)"
      ],
      "execution_count": 67,
      "outputs": [
        {
          "output_type": "execute_result",
          "data": {
            "text/plain": [
              "Text(0.5, 1.0, 'Validation Accuracy Score: 0.616')"
            ]
          },
          "metadata": {
            "tags": []
          },
          "execution_count": 67
        },
        {
          "output_type": "display_data",
          "data": {
            "image/png": "[encoded data removed]",
            "text/plain": [
              "<Figure size 1080x360 with 4 Axes>"
            ]
          },
          "metadata": {
            "tags": [],
            "needs_background": "light"
          }
        }
      ]
    },
    {
      "cell_type": "markdown",
      "metadata": {
        "id": "WFnCNYHmY9RY"
      },
      "source": [
        "## Feature Importance\r\n"
      ]
    },
    {
      "cell_type": "code",
      "metadata": {
        "colab": {
          "base_uri": "https://localhost:8080/",
          "height": 621
        },
        "id": "OWOT8lEJUyEJ",
        "outputId": "0ec9b315-034c-4e49-93a5-f2486e65e5a3"
      },
      "source": [
        "import lightgbm as lgb\r\n",
        "\r\n",
        "plt.rcParams[\"figure.figsize\"] = (18, 10)\r\n",
        "lgb.plot_importance(lgbm_model)\r\n",
        "\r\n",
        "feature_imp = pd.Series(lgbm_model.feature_importances_, index = X_train.columns)\r\n",
        "best_features = feature_imp.nlargest(25)"
      ],
      "execution_count": 68,
      "outputs": [
        {
          "output_type": "display_data",
          "data": {
            "image/png": "[encoded data removed]",
            "text/plain": [
              "<Figure size 1296x720 with 1 Axes>"
            ]
          },
          "metadata": {
            "tags": [],
            "needs_background": "light"
          }
        }
      ]
    },
    {
      "cell_type": "code",
      "metadata": {
        "id": "Rh7om0ZJUyHk"
      },
      "source": [
        "X_train_importance = X_train[best_features.index]\r\n",
        "X_val_importance = X_val[best_features.index]\r\n",
        "X_test_importance = X_test[best_features.index]"
      ],
      "execution_count": 69,
      "outputs": []
    },
    {
      "cell_type": "markdown",
      "metadata": {
        "id": "DRq-ihT7_p1g"
      },
      "source": [
        "### Training after feature importance"
      ]
    },
    {
      "cell_type": "code",
      "metadata": {
        "id": "qIhe0WxkUyKf"
      },
      "source": [
        "lgbm=LGBMClassifier()"
      ],
      "execution_count": null,
      "outputs": []
    },
    {
      "cell_type": "code",
      "metadata": {
        "id": "6HroffRtUyOS"
      },
      "source": [
        "lgbm_params = {\"learning_rate\":[0.01,0.1,0.05],\r\n",
        "              \"n_estimators\": [100,200,500],\r\n",
        "               \"subsample\":[0.1,0.2],\r\n",
        "              \"max_depth\":[2,3,5,8]}"
      ],
      "execution_count": null,
      "outputs": []
    },
    {
      "cell_type": "code",
      "metadata": {
        "colab": {
          "base_uri": "https://localhost:8080/"
        },
        "id": "xJK6IxIVUyR_",
        "outputId": "88dc26ab-7e2f-4fe1-b025-c6d4c295524c"
      },
      "source": [
        "lgbm_cv_model=GridSearchCV(lgbm,lgbm_params,cv=3,n_jobs=-1,verbose=2).fit(X_train_importance,y_train)"
      ],
      "execution_count": null,
      "outputs": [
        {
          "output_type": "stream",
          "text": [
            "Fitting 3 folds for each of 72 candidates, totalling 216 fits\n"
          ],
          "name": "stdout"
        },
        {
          "output_type": "stream",
          "text": [
            "[Parallel(n_jobs=-1)]: Using backend LokyBackend with 2 concurrent workers.\n",
            "[Parallel(n_jobs=-1)]: Done  37 tasks      | elapsed:   10.4s\n",
            "[Parallel(n_jobs=-1)]: Done 158 tasks      | elapsed:   54.7s\n",
            "[Parallel(n_jobs=-1)]: Done 216 out of 216 | elapsed:  1.3min finished\n"
          ],
          "name": "stderr"
        }
      ]
    },
    {
      "cell_type": "code",
      "metadata": {
        "colab": {
          "base_uri": "https://localhost:8080/"
        },
        "id": "hTXXBBm3UyVz",
        "outputId": "e98ea6e3-e778-4950-bf46-9d9db6928c06"
      },
      "source": [
        "lgbm_cv_model.best_params_"
      ],
      "execution_count": null,
      "outputs": [
        {
          "output_type": "execute_result",
          "data": {
            "text/plain": [
              "{'learning_rate': 0.05, 'max_depth': 3, 'n_estimators': 100, 'subsample': 0.1}"
            ]
          },
          "metadata": {
            "tags": []
          },
          "execution_count": 80
        }
      ]
    },
    {
      "cell_type": "code",
      "metadata": {
        "id": "IFOl0l-VZrX1"
      },
      "source": [
        "lgbm_tuned=LGBMClassifier(learning_rate=0.1,max_depth=2,n_estimators=200,subsample= 0.1).fit(X_train_importance, y_train)"
      ],
      "execution_count": null,
      "outputs": []
    },
    {
      "cell_type": "code",
      "metadata": {
        "colab": {
          "base_uri": "https://localhost:8080/"
        },
        "id": "k5YpKx7LZrgP",
        "outputId": "9fd8cbba-79f2-4ae8-f24c-1f7befc4d634"
      },
      "source": [
        "y_train_preds = lgbm_model.predict_proba(X_train)[:,1]\r\n",
        "y_val_preds = lgbm_model.predict_proba(X_val)[:,1]\r\n",
        "\r\n",
        "print('Baseline LGBM')\r\n",
        "lgbm_train_auc_base = roc_auc_score(y_train, y_train_preds)\r\n",
        "lgbm_val_auc_base = roc_auc_score(y_val, y_val_preds)\r\n",
        "\r\n",
        "print('Training AUC:%.3f'%(lgbm_train_auc_base))\r\n",
        "print('Validation AUC:%.3f'%(lgbm_val_auc_base))\r\n",
        "\r\n",
        "print('Optimized LGBM')\r\n",
        "y_train_preds_lgbm = lgbm_tuned.predict_proba(X_train_importance)[:,1]\r\n",
        "y_val_preds_lgbm = lgbm_tuned.predict_proba(X_val_importance)[:,1]\r\n",
        "\r\n",
        "lgbm_train_auc = roc_auc_score(y_train, y_train_preds_lgbm)\r\n",
        "lgbm_val_auc = roc_auc_score(y_val, y_val_preds_lgbm)\r\n",
        "\r\n",
        "print('Training AUC:%.3f'%(lgbm_train_auc))\r\n",
        "print('Validation AUC:%.3f'%(lgbm_val_auc))"
      ],
      "execution_count": null,
      "outputs": [
        {
          "output_type": "stream",
          "text": [
            "Baseline LGBM\n",
            "Training AUC:0.687\n",
            "Validation AUC:0.649\n",
            "Optimized LGBM\n",
            "Training AUC:0.675\n",
            "Validation AUC:0.650\n"
          ],
          "name": "stdout"
        }
      ]
    },
    {
      "cell_type": "code",
      "metadata": {
        "colab": {
          "base_uri": "https://localhost:8080/"
        },
        "id": "KLSkoySFOxyy",
        "outputId": "9c6e1634-e3f6-4343-f52c-2c1c6ba63372"
      },
      "source": [
        "!pip install catboost"
      ],
      "execution_count": null,
      "outputs": [
        {
          "output_type": "stream",
          "text": [
            "Collecting catboost\n",
            "\u001b[?25l  Downloading https://files.pythonhosted.org/packages/7e/c1/c1c4707013f9e2f8a96899dd3a87f66c9167d6d776a6dc8fe7ec8678d446/catboost-0.24.3-cp36-none-manylinux1_x86_64.whl (66.3MB)\n",
            "\u001b[K     |████████████████████████████████| 66.3MB 56kB/s \n",
            "\u001b[?25hRequirement already satisfied: numpy>=1.16.0 in /usr/local/lib/python3.6/dist-packages (from catboost) (1.18.5)\n",
            "Requirement already satisfied: graphviz in /usr/local/lib/python3.6/dist-packages (from catboost) (0.10.1)\n",
            "Requirement already satisfied: pandas>=0.24.0 in /usr/local/lib/python3.6/dist-packages (from catboost) (1.1.5)\n",
            "Requirement already satisfied: scipy in /usr/local/lib/python3.6/dist-packages (from catboost) (1.4.1)\n",
            "Requirement already satisfied: plotly in /usr/local/lib/python3.6/dist-packages (from catboost) (4.4.1)\n",
            "Requirement already satisfied: six in /usr/local/lib/python3.6/dist-packages (from catboost) (1.15.0)\n",
            "Requirement already satisfied: matplotlib in /usr/local/lib/python3.6/dist-packages (from catboost) (3.2.2)\n",
            "Requirement already satisfied: pytz>=2017.2 in /usr/local/lib/python3.6/dist-packages (from pandas>=0.24.0->catboost) (2018.9)\n",
            "Requirement already satisfied: python-dateutil>=2.7.3 in /usr/local/lib/python3.6/dist-packages (from pandas>=0.24.0->catboost) (2.8.1)\n",
            "Requirement already satisfied: retrying>=1.3.3 in /usr/local/lib/python3.6/dist-packages (from plotly->catboost) (1.3.3)\n",
            "Requirement already satisfied: kiwisolver>=1.0.1 in /usr/local/lib/python3.6/dist-packages (from matplotlib->catboost) (1.3.1)\n",
            "Requirement already satisfied: pyparsing!=2.0.4,!=2.1.2,!=2.1.6,>=2.0.1 in /usr/local/lib/python3.6/dist-packages (from matplotlib->catboost) (2.4.7)\n",
            "Requirement already satisfied: cycler>=0.10 in /usr/local/lib/python3.6/dist-packages (from matplotlib->catboost) (0.10.0)\n",
            "Installing collected packages: catboost\n",
            "Successfully installed catboost-0.24.3\n"
          ],
          "name": "stdout"
        }
      ]
    },
    {
      "cell_type": "code",
      "metadata": {
        "id": "dDJNnpwbZrnv"
      },
      "source": [
        "from catboost import CatBoostClassifier\r\n",
        "catb=CatBoostClassifier()"
      ],
      "execution_count": null,
      "outputs": []
    },
    {
      "cell_type": "code",
      "metadata": {
        "id": "VQ88eKNRZrqR"
      },
      "source": [
        "catb_params={\"iterations\":[200,500,1000],\r\n",
        "            \"learning_rate\":[0.05,0.1],\r\n",
        "            \"depth\":[4,5,8],\r\n",
        "           }"
      ],
      "execution_count": null,
      "outputs": []
    },
    {
      "cell_type": "code",
      "metadata": {
        "colab": {
          "base_uri": "https://localhost:8080/"
        },
        "id": "7--uvFmUZrtx",
        "outputId": "c8e97758-5a3b-4086-f0bb-bfdd540991a1"
      },
      "source": [
        "catb_cv_model=GridSearchCV(catb,catb_params, cv=3, n_jobs=-1,  verbose=2).fit(X_train_importance,y_train)"
      ],
      "execution_count": null,
      "outputs": [
        {
          "output_type": "stream",
          "text": [
            "Fitting 3 folds for each of 18 candidates, totalling 54 fits\n"
          ],
          "name": "stdout"
        },
        {
          "output_type": "stream",
          "text": [
            "[Parallel(n_jobs=-1)]: Using backend LokyBackend with 2 concurrent workers.\n",
            "[Parallel(n_jobs=-1)]: Done  37 tasks      | elapsed:  1.5min\n",
            "[Parallel(n_jobs=-1)]: Done  54 out of  54 | elapsed:  2.7min finished\n"
          ],
          "name": "stderr"
        },
        {
          "output_type": "stream",
          "text": [
            "0:\tlearn: 0.6901667\ttotal: 54.9ms\tremaining: 27.4s\n",
            "1:\tlearn: 0.6875017\ttotal: 60.4ms\tremaining: 15s\n",
            "2:\tlearn: 0.6849644\ttotal: 66.2ms\tremaining: 11s\n",
            "3:\tlearn: 0.6828171\ttotal: 72.7ms\tremaining: 9.02s\n",
            "4:\tlearn: 0.6807840\ttotal: 82.1ms\tremaining: 8.13s\n",
            "5:\tlearn: 0.6791794\ttotal: 88.8ms\tremaining: 7.31s\n",
            "6:\tlearn: 0.6773523\ttotal: 95.5ms\tremaining: 6.73s\n",
            "7:\tlearn: 0.6759893\ttotal: 102ms\tremaining: 6.24s\n",
            "8:\tlearn: 0.6748593\ttotal: 108ms\tremaining: 5.89s\n",
            "9:\tlearn: 0.6737981\ttotal: 115ms\tremaining: 5.61s\n",
            "10:\tlearn: 0.6727266\ttotal: 121ms\tremaining: 5.38s\n",
            "11:\tlearn: 0.6717785\ttotal: 128ms\tremaining: 5.19s\n",
            "12:\tlearn: 0.6707197\ttotal: 133ms\tremaining: 4.99s\n",
            "13:\tlearn: 0.6696771\ttotal: 139ms\tremaining: 4.81s\n",
            "14:\tlearn: 0.6689146\ttotal: 145ms\tremaining: 4.69s\n",
            "15:\tlearn: 0.6680176\ttotal: 150ms\tremaining: 4.55s\n",
            "16:\tlearn: 0.6674492\ttotal: 157ms\tremaining: 4.45s\n",
            "17:\tlearn: 0.6669972\ttotal: 163ms\tremaining: 4.36s\n",
            "18:\tlearn: 0.6661987\ttotal: 169ms\tremaining: 4.27s\n",
            "19:\tlearn: 0.6656763\ttotal: 174ms\tremaining: 4.17s\n",
            "20:\tlearn: 0.6648989\ttotal: 180ms\tremaining: 4.11s\n",
            "21:\tlearn: 0.6644113\ttotal: 185ms\tremaining: 4.03s\n",
            "22:\tlearn: 0.6638702\ttotal: 191ms\tremaining: 3.95s\n",
            "23:\tlearn: 0.6633978\ttotal: 196ms\tremaining: 3.89s\n",
            "24:\tlearn: 0.6629366\ttotal: 202ms\tremaining: 3.83s\n",
            "25:\tlearn: 0.6625874\ttotal: 207ms\tremaining: 3.77s\n",
            "26:\tlearn: 0.6621471\ttotal: 213ms\tremaining: 3.73s\n",
            "27:\tlearn: 0.6619112\ttotal: 219ms\tremaining: 3.69s\n",
            "28:\tlearn: 0.6616000\ttotal: 225ms\tremaining: 3.65s\n",
            "29:\tlearn: 0.6613311\ttotal: 232ms\tremaining: 3.63s\n",
            "30:\tlearn: 0.6610906\ttotal: 238ms\tremaining: 3.6s\n",
            "31:\tlearn: 0.6607536\ttotal: 243ms\tremaining: 3.56s\n",
            "32:\tlearn: 0.6605035\ttotal: 254ms\tremaining: 3.6s\n",
            "33:\tlearn: 0.6601698\ttotal: 260ms\tremaining: 3.57s\n",
            "34:\tlearn: 0.6599136\ttotal: 267ms\tremaining: 3.54s\n",
            "35:\tlearn: 0.6596832\ttotal: 272ms\tremaining: 3.51s\n",
            "36:\tlearn: 0.6594419\ttotal: 279ms\tremaining: 3.49s\n",
            "37:\tlearn: 0.6591551\ttotal: 285ms\tremaining: 3.46s\n",
            "38:\tlearn: 0.6588918\ttotal: 292ms\tremaining: 3.45s\n",
            "39:\tlearn: 0.6586921\ttotal: 299ms\tremaining: 3.44s\n",
            "40:\tlearn: 0.6585174\ttotal: 304ms\tremaining: 3.4s\n",
            "41:\tlearn: 0.6583643\ttotal: 310ms\tremaining: 3.38s\n",
            "42:\tlearn: 0.6582353\ttotal: 317ms\tremaining: 3.37s\n",
            "43:\tlearn: 0.6580455\ttotal: 323ms\tremaining: 3.35s\n",
            "44:\tlearn: 0.6578325\ttotal: 330ms\tremaining: 3.33s\n",
            "45:\tlearn: 0.6576416\ttotal: 337ms\tremaining: 3.32s\n",
            "46:\tlearn: 0.6575150\ttotal: 344ms\tremaining: 3.31s\n",
            "47:\tlearn: 0.6573537\ttotal: 351ms\tremaining: 3.31s\n",
            "48:\tlearn: 0.6572556\ttotal: 357ms\tremaining: 3.29s\n",
            "49:\tlearn: 0.6570902\ttotal: 365ms\tremaining: 3.28s\n",
            "50:\tlearn: 0.6569536\ttotal: 371ms\tremaining: 3.27s\n",
            "51:\tlearn: 0.6566692\ttotal: 378ms\tremaining: 3.25s\n",
            "52:\tlearn: 0.6564951\ttotal: 385ms\tremaining: 3.24s\n",
            "53:\tlearn: 0.6564032\ttotal: 391ms\tremaining: 3.23s\n",
            "54:\tlearn: 0.6562607\ttotal: 398ms\tremaining: 3.22s\n",
            "55:\tlearn: 0.6560962\ttotal: 404ms\tremaining: 3.2s\n",
            "56:\tlearn: 0.6558795\ttotal: 409ms\tremaining: 3.18s\n",
            "57:\tlearn: 0.6557469\ttotal: 415ms\tremaining: 3.17s\n",
            "58:\tlearn: 0.6556093\ttotal: 422ms\tremaining: 3.15s\n",
            "59:\tlearn: 0.6554856\ttotal: 431ms\tremaining: 3.16s\n",
            "60:\tlearn: 0.6553350\ttotal: 436ms\tremaining: 3.14s\n",
            "61:\tlearn: 0.6552079\ttotal: 443ms\tremaining: 3.13s\n",
            "62:\tlearn: 0.6551073\ttotal: 460ms\tremaining: 3.19s\n",
            "63:\tlearn: 0.6549869\ttotal: 467ms\tremaining: 3.18s\n",
            "64:\tlearn: 0.6548530\ttotal: 472ms\tremaining: 3.16s\n",
            "65:\tlearn: 0.6547061\ttotal: 478ms\tremaining: 3.15s\n",
            "66:\tlearn: 0.6546182\ttotal: 484ms\tremaining: 3.13s\n",
            "67:\tlearn: 0.6544967\ttotal: 491ms\tremaining: 3.12s\n",
            "68:\tlearn: 0.6543695\ttotal: 498ms\tremaining: 3.11s\n",
            "69:\tlearn: 0.6542422\ttotal: 504ms\tremaining: 3.1s\n",
            "70:\tlearn: 0.6541147\ttotal: 511ms\tremaining: 3.09s\n",
            "71:\tlearn: 0.6540182\ttotal: 518ms\tremaining: 3.08s\n",
            "72:\tlearn: 0.6538789\ttotal: 525ms\tremaining: 3.07s\n",
            "73:\tlearn: 0.6537229\ttotal: 531ms\tremaining: 3.05s\n",
            "74:\tlearn: 0.6535812\ttotal: 536ms\tremaining: 3.04s\n",
            "75:\tlearn: 0.6534480\ttotal: 542ms\tremaining: 3.02s\n",
            "76:\tlearn: 0.6533430\ttotal: 549ms\tremaining: 3.01s\n",
            "77:\tlearn: 0.6532101\ttotal: 556ms\tremaining: 3.01s\n",
            "78:\tlearn: 0.6530664\ttotal: 562ms\tremaining: 3s\n",
            "79:\tlearn: 0.6529274\ttotal: 569ms\tremaining: 2.98s\n",
            "80:\tlearn: 0.6527935\ttotal: 574ms\tremaining: 2.97s\n",
            "81:\tlearn: 0.6526918\ttotal: 581ms\tremaining: 2.96s\n",
            "82:\tlearn: 0.6525841\ttotal: 587ms\tremaining: 2.95s\n",
            "83:\tlearn: 0.6524647\ttotal: 593ms\tremaining: 2.94s\n",
            "84:\tlearn: 0.6523911\ttotal: 599ms\tremaining: 2.93s\n",
            "85:\tlearn: 0.6522806\ttotal: 606ms\tremaining: 2.92s\n",
            "86:\tlearn: 0.6521923\ttotal: 613ms\tremaining: 2.91s\n",
            "87:\tlearn: 0.6521030\ttotal: 619ms\tremaining: 2.9s\n",
            "88:\tlearn: 0.6519779\ttotal: 625ms\tremaining: 2.89s\n",
            "89:\tlearn: 0.6518886\ttotal: 632ms\tremaining: 2.88s\n",
            "90:\tlearn: 0.6518044\ttotal: 639ms\tremaining: 2.87s\n",
            "91:\tlearn: 0.6516954\ttotal: 646ms\tremaining: 2.86s\n",
            "92:\tlearn: 0.6516165\ttotal: 652ms\tremaining: 2.85s\n",
            "93:\tlearn: 0.6514825\ttotal: 662ms\tremaining: 2.86s\n",
            "94:\tlearn: 0.6514239\ttotal: 669ms\tremaining: 2.85s\n",
            "95:\tlearn: 0.6513149\ttotal: 675ms\tremaining: 2.84s\n",
            "96:\tlearn: 0.6512240\ttotal: 681ms\tremaining: 2.83s\n",
            "97:\tlearn: 0.6511530\ttotal: 687ms\tremaining: 2.82s\n",
            "98:\tlearn: 0.6510380\ttotal: 694ms\tremaining: 2.81s\n",
            "99:\tlearn: 0.6509058\ttotal: 700ms\tremaining: 2.8s\n",
            "100:\tlearn: 0.6508293\ttotal: 706ms\tremaining: 2.79s\n",
            "101:\tlearn: 0.6507473\ttotal: 713ms\tremaining: 2.78s\n",
            "102:\tlearn: 0.6506697\ttotal: 719ms\tremaining: 2.77s\n",
            "103:\tlearn: 0.6506189\ttotal: 725ms\tremaining: 2.76s\n",
            "104:\tlearn: 0.6505057\ttotal: 732ms\tremaining: 2.75s\n",
            "105:\tlearn: 0.6504623\ttotal: 737ms\tremaining: 2.74s\n",
            "106:\tlearn: 0.6503657\ttotal: 744ms\tremaining: 2.73s\n",
            "107:\tlearn: 0.6502230\ttotal: 750ms\tremaining: 2.72s\n",
            "108:\tlearn: 0.6501623\ttotal: 757ms\tremaining: 2.71s\n",
            "109:\tlearn: 0.6500291\ttotal: 764ms\tremaining: 2.71s\n",
            "110:\tlearn: 0.6499098\ttotal: 769ms\tremaining: 2.69s\n",
            "111:\tlearn: 0.6498631\ttotal: 775ms\tremaining: 2.69s\n",
            "112:\tlearn: 0.6497930\ttotal: 782ms\tremaining: 2.68s\n",
            "113:\tlearn: 0.6497012\ttotal: 789ms\tremaining: 2.67s\n",
            "114:\tlearn: 0.6496266\ttotal: 795ms\tremaining: 2.66s\n",
            "115:\tlearn: 0.6495363\ttotal: 802ms\tremaining: 2.65s\n",
            "116:\tlearn: 0.6494540\ttotal: 808ms\tremaining: 2.65s\n",
            "117:\tlearn: 0.6492698\ttotal: 815ms\tremaining: 2.64s\n",
            "118:\tlearn: 0.6492216\ttotal: 829ms\tremaining: 2.65s\n",
            "119:\tlearn: 0.6491483\ttotal: 835ms\tremaining: 2.65s\n",
            "120:\tlearn: 0.6489954\ttotal: 842ms\tremaining: 2.64s\n",
            "121:\tlearn: 0.6488898\ttotal: 849ms\tremaining: 2.63s\n",
            "122:\tlearn: 0.6488099\ttotal: 855ms\tremaining: 2.62s\n",
            "123:\tlearn: 0.6487339\ttotal: 865ms\tremaining: 2.62s\n",
            "124:\tlearn: 0.6486532\ttotal: 872ms\tremaining: 2.61s\n",
            "125:\tlearn: 0.6485288\ttotal: 878ms\tremaining: 2.6s\n",
            "126:\tlearn: 0.6484598\ttotal: 884ms\tremaining: 2.6s\n",
            "127:\tlearn: 0.6484078\ttotal: 891ms\tremaining: 2.59s\n",
            "128:\tlearn: 0.6483434\ttotal: 897ms\tremaining: 2.58s\n",
            "129:\tlearn: 0.6482454\ttotal: 904ms\tremaining: 2.57s\n",
            "130:\tlearn: 0.6481894\ttotal: 910ms\tremaining: 2.56s\n",
            "131:\tlearn: 0.6481042\ttotal: 917ms\tremaining: 2.56s\n",
            "132:\tlearn: 0.6480499\ttotal: 924ms\tremaining: 2.55s\n",
            "133:\tlearn: 0.6479601\ttotal: 932ms\tremaining: 2.54s\n",
            "134:\tlearn: 0.6478927\ttotal: 938ms\tremaining: 2.54s\n",
            "135:\tlearn: 0.6477457\ttotal: 945ms\tremaining: 2.53s\n",
            "136:\tlearn: 0.6476542\ttotal: 951ms\tremaining: 2.52s\n",
            "137:\tlearn: 0.6475698\ttotal: 957ms\tremaining: 2.51s\n",
            "138:\tlearn: 0.6474605\ttotal: 966ms\tremaining: 2.51s\n",
            "139:\tlearn: 0.6474188\ttotal: 973ms\tremaining: 2.5s\n",
            "140:\tlearn: 0.6473566\ttotal: 980ms\tremaining: 2.49s\n",
            "141:\tlearn: 0.6473330\ttotal: 986ms\tremaining: 2.49s\n",
            "142:\tlearn: 0.6472533\ttotal: 992ms\tremaining: 2.48s\n",
            "143:\tlearn: 0.6471547\ttotal: 998ms\tremaining: 2.47s\n",
            "144:\tlearn: 0.6470476\ttotal: 1s\tremaining: 2.46s\n",
            "145:\tlearn: 0.6469857\ttotal: 1.01s\tremaining: 2.45s\n",
            "146:\tlearn: 0.6468825\ttotal: 1.02s\tremaining: 2.44s\n",
            "147:\tlearn: 0.6467872\ttotal: 1.02s\tremaining: 2.44s\n",
            "148:\tlearn: 0.6467072\ttotal: 1.03s\tremaining: 2.43s\n",
            "149:\tlearn: 0.6465861\ttotal: 1.04s\tremaining: 2.42s\n",
            "150:\tlearn: 0.6465054\ttotal: 1.04s\tremaining: 2.41s\n",
            "151:\tlearn: 0.6463409\ttotal: 1.05s\tremaining: 2.4s\n",
            "152:\tlearn: 0.6462872\ttotal: 1.06s\tremaining: 2.4s\n",
            "153:\tlearn: 0.6461862\ttotal: 1.07s\tremaining: 2.4s\n",
            "154:\tlearn: 0.6460939\ttotal: 1.07s\tremaining: 2.39s\n",
            "155:\tlearn: 0.6459693\ttotal: 1.08s\tremaining: 2.38s\n",
            "156:\tlearn: 0.6458730\ttotal: 1.09s\tremaining: 2.38s\n",
            "157:\tlearn: 0.6458207\ttotal: 1.09s\tremaining: 2.37s\n",
            "158:\tlearn: 0.6457794\ttotal: 1.1s\tremaining: 2.36s\n",
            "159:\tlearn: 0.6457118\ttotal: 1.11s\tremaining: 2.35s\n",
            "160:\tlearn: 0.6456029\ttotal: 1.11s\tremaining: 2.35s\n",
            "161:\tlearn: 0.6455172\ttotal: 1.12s\tremaining: 2.34s\n",
            "162:\tlearn: 0.6454029\ttotal: 1.13s\tremaining: 2.33s\n",
            "163:\tlearn: 0.6452856\ttotal: 1.13s\tremaining: 2.32s\n",
            "164:\tlearn: 0.6451464\ttotal: 1.14s\tremaining: 2.31s\n",
            "165:\tlearn: 0.6449727\ttotal: 1.15s\tremaining: 2.31s\n",
            "166:\tlearn: 0.6448574\ttotal: 1.15s\tremaining: 2.3s\n",
            "167:\tlearn: 0.6447696\ttotal: 1.16s\tremaining: 2.29s\n",
            "168:\tlearn: 0.6446728\ttotal: 1.17s\tremaining: 2.29s\n",
            "169:\tlearn: 0.6445852\ttotal: 1.17s\tremaining: 2.28s\n",
            "170:\tlearn: 0.6445307\ttotal: 1.18s\tremaining: 2.27s\n",
            "171:\tlearn: 0.6444213\ttotal: 1.19s\tremaining: 2.26s\n",
            "172:\tlearn: 0.6443445\ttotal: 1.19s\tremaining: 2.26s\n",
            "173:\tlearn: 0.6442594\ttotal: 1.2s\tremaining: 2.25s\n",
            "174:\tlearn: 0.6441855\ttotal: 1.21s\tremaining: 2.24s\n",
            "175:\tlearn: 0.6441153\ttotal: 1.21s\tremaining: 2.23s\n",
            "176:\tlearn: 0.6439955\ttotal: 1.22s\tremaining: 2.23s\n",
            "177:\tlearn: 0.6439104\ttotal: 1.23s\tremaining: 2.22s\n",
            "178:\tlearn: 0.6438780\ttotal: 1.23s\tremaining: 2.21s\n",
            "179:\tlearn: 0.6437728\ttotal: 1.24s\tremaining: 2.2s\n",
            "180:\tlearn: 0.6436725\ttotal: 1.24s\tremaining: 2.19s\n",
            "181:\tlearn: 0.6435966\ttotal: 1.25s\tremaining: 2.19s\n",
            "182:\tlearn: 0.6434714\ttotal: 1.26s\tremaining: 2.18s\n",
            "183:\tlearn: 0.6433647\ttotal: 1.26s\tremaining: 2.17s\n",
            "184:\tlearn: 0.6432618\ttotal: 1.27s\tremaining: 2.17s\n",
            "185:\tlearn: 0.6431793\ttotal: 1.28s\tremaining: 2.16s\n",
            "186:\tlearn: 0.6431161\ttotal: 1.29s\tremaining: 2.15s\n",
            "187:\tlearn: 0.6430538\ttotal: 1.29s\tremaining: 2.15s\n",
            "188:\tlearn: 0.6429808\ttotal: 1.3s\tremaining: 2.14s\n",
            "189:\tlearn: 0.6429185\ttotal: 1.31s\tremaining: 2.13s\n",
            "190:\tlearn: 0.6428455\ttotal: 1.31s\tremaining: 2.13s\n",
            "191:\tlearn: 0.6428029\ttotal: 1.32s\tremaining: 2.12s\n",
            "192:\tlearn: 0.6427430\ttotal: 1.33s\tremaining: 2.12s\n",
            "193:\tlearn: 0.6426652\ttotal: 1.34s\tremaining: 2.11s\n",
            "194:\tlearn: 0.6425538\ttotal: 1.34s\tremaining: 2.1s\n",
            "195:\tlearn: 0.6425125\ttotal: 1.35s\tremaining: 2.1s\n",
            "196:\tlearn: 0.6424682\ttotal: 1.36s\tremaining: 2.09s\n",
            "197:\tlearn: 0.6423816\ttotal: 1.36s\tremaining: 2.08s\n",
            "198:\tlearn: 0.6423044\ttotal: 1.37s\tremaining: 2.07s\n",
            "199:\tlearn: 0.6421744\ttotal: 1.38s\tremaining: 2.07s\n",
            "200:\tlearn: 0.6420776\ttotal: 1.38s\tremaining: 2.06s\n",
            "201:\tlearn: 0.6419597\ttotal: 1.39s\tremaining: 2.05s\n",
            "202:\tlearn: 0.6418627\ttotal: 1.4s\tremaining: 2.04s\n",
            "203:\tlearn: 0.6417537\ttotal: 1.4s\tremaining: 2.04s\n",
            "204:\tlearn: 0.6416953\ttotal: 1.41s\tremaining: 2.03s\n",
            "205:\tlearn: 0.6416035\ttotal: 1.42s\tremaining: 2.02s\n",
            "206:\tlearn: 0.6415361\ttotal: 1.42s\tremaining: 2.02s\n",
            "207:\tlearn: 0.6413882\ttotal: 1.43s\tremaining: 2.01s\n",
            "208:\tlearn: 0.6413095\ttotal: 1.44s\tremaining: 2s\n",
            "209:\tlearn: 0.6412213\ttotal: 1.44s\tremaining: 1.99s\n",
            "210:\tlearn: 0.6411493\ttotal: 1.45s\tremaining: 1.99s\n",
            "211:\tlearn: 0.6410851\ttotal: 1.46s\tremaining: 1.98s\n",
            "212:\tlearn: 0.6409471\ttotal: 1.46s\tremaining: 1.97s\n",
            "213:\tlearn: 0.6408771\ttotal: 1.47s\tremaining: 1.96s\n",
            "214:\tlearn: 0.6408082\ttotal: 1.48s\tremaining: 1.96s\n",
            "215:\tlearn: 0.6407066\ttotal: 1.49s\tremaining: 1.95s\n",
            "216:\tlearn: 0.6405426\ttotal: 1.49s\tremaining: 1.95s\n",
            "217:\tlearn: 0.6404293\ttotal: 1.5s\tremaining: 1.94s\n",
            "218:\tlearn: 0.6403410\ttotal: 1.51s\tremaining: 1.93s\n",
            "219:\tlearn: 0.6402403\ttotal: 1.51s\tremaining: 1.93s\n",
            "220:\tlearn: 0.6401375\ttotal: 1.52s\tremaining: 1.92s\n",
            "221:\tlearn: 0.6399460\ttotal: 1.52s\tremaining: 1.91s\n",
            "222:\tlearn: 0.6398523\ttotal: 1.53s\tremaining: 1.9s\n",
            "223:\tlearn: 0.6397205\ttotal: 1.54s\tremaining: 1.9s\n",
            "224:\tlearn: 0.6396055\ttotal: 1.54s\tremaining: 1.89s\n",
            "225:\tlearn: 0.6394788\ttotal: 1.55s\tremaining: 1.88s\n",
            "226:\tlearn: 0.6393726\ttotal: 1.56s\tremaining: 1.87s\n",
            "227:\tlearn: 0.6392540\ttotal: 1.56s\tremaining: 1.87s\n",
            "228:\tlearn: 0.6391851\ttotal: 1.57s\tremaining: 1.86s\n",
            "229:\tlearn: 0.6390847\ttotal: 1.58s\tremaining: 1.85s\n",
            "230:\tlearn: 0.6389743\ttotal: 1.58s\tremaining: 1.84s\n",
            "231:\tlearn: 0.6388926\ttotal: 1.59s\tremaining: 1.84s\n",
            "232:\tlearn: 0.6387560\ttotal: 1.6s\tremaining: 1.83s\n",
            "233:\tlearn: 0.6386261\ttotal: 1.6s\tremaining: 1.82s\n",
            "234:\tlearn: 0.6385555\ttotal: 1.61s\tremaining: 1.81s\n",
            "235:\tlearn: 0.6384779\ttotal: 1.61s\tremaining: 1.81s\n",
            "236:\tlearn: 0.6384373\ttotal: 1.62s\tremaining: 1.8s\n",
            "237:\tlearn: 0.6383954\ttotal: 1.63s\tremaining: 1.79s\n",
            "238:\tlearn: 0.6383049\ttotal: 1.64s\tremaining: 1.79s\n",
            "239:\tlearn: 0.6382468\ttotal: 1.65s\tremaining: 1.78s\n",
            "240:\tlearn: 0.6381291\ttotal: 1.65s\tremaining: 1.78s\n",
            "241:\tlearn: 0.6380932\ttotal: 1.66s\tremaining: 1.77s\n",
            "242:\tlearn: 0.6379782\ttotal: 1.67s\tremaining: 1.76s\n",
            "243:\tlearn: 0.6378544\ttotal: 1.68s\tremaining: 1.76s\n",
            "244:\tlearn: 0.6378016\ttotal: 1.68s\tremaining: 1.75s\n",
            "245:\tlearn: 0.6377186\ttotal: 1.69s\tremaining: 1.75s\n",
            "246:\tlearn: 0.6375821\ttotal: 1.7s\tremaining: 1.74s\n",
            "247:\tlearn: 0.6374963\ttotal: 1.7s\tremaining: 1.73s\n",
            "248:\tlearn: 0.6373917\ttotal: 1.71s\tremaining: 1.72s\n",
            "249:\tlearn: 0.6373348\ttotal: 1.72s\tremaining: 1.72s\n",
            "250:\tlearn: 0.6372701\ttotal: 1.72s\tremaining: 1.71s\n",
            "251:\tlearn: 0.6372118\ttotal: 1.73s\tremaining: 1.7s\n",
            "252:\tlearn: 0.6371270\ttotal: 1.74s\tremaining: 1.7s\n",
            "253:\tlearn: 0.6370329\ttotal: 1.74s\tremaining: 1.69s\n",
            "254:\tlearn: 0.6369090\ttotal: 1.75s\tremaining: 1.68s\n",
            "255:\tlearn: 0.6368073\ttotal: 1.75s\tremaining: 1.67s\n",
            "256:\tlearn: 0.6366828\ttotal: 1.76s\tremaining: 1.67s\n",
            "257:\tlearn: 0.6365997\ttotal: 1.77s\tremaining: 1.66s\n",
            "258:\tlearn: 0.6365525\ttotal: 1.77s\tremaining: 1.65s\n",
            "259:\tlearn: 0.6364263\ttotal: 1.78s\tremaining: 1.65s\n",
            "260:\tlearn: 0.6363250\ttotal: 1.79s\tremaining: 1.64s\n",
            "261:\tlearn: 0.6362283\ttotal: 1.79s\tremaining: 1.63s\n",
            "262:\tlearn: 0.6361350\ttotal: 1.81s\tremaining: 1.63s\n",
            "263:\tlearn: 0.6360501\ttotal: 1.82s\tremaining: 1.63s\n",
            "264:\tlearn: 0.6359703\ttotal: 1.83s\tremaining: 1.62s\n",
            "265:\tlearn: 0.6358841\ttotal: 1.83s\tremaining: 1.61s\n",
            "266:\tlearn: 0.6357493\ttotal: 1.84s\tremaining: 1.6s\n",
            "267:\tlearn: 0.6356440\ttotal: 1.84s\tremaining: 1.6s\n",
            "268:\tlearn: 0.6355626\ttotal: 1.85s\tremaining: 1.59s\n",
            "269:\tlearn: 0.6354725\ttotal: 1.86s\tremaining: 1.58s\n",
            "270:\tlearn: 0.6353635\ttotal: 1.86s\tremaining: 1.57s\n",
            "271:\tlearn: 0.6352322\ttotal: 1.87s\tremaining: 1.57s\n",
            "272:\tlearn: 0.6351479\ttotal: 1.88s\tremaining: 1.56s\n",
            "273:\tlearn: 0.6350920\ttotal: 1.89s\tremaining: 1.56s\n",
            "274:\tlearn: 0.6350003\ttotal: 1.89s\tremaining: 1.55s\n",
            "275:\tlearn: 0.6348815\ttotal: 1.9s\tremaining: 1.54s\n",
            "276:\tlearn: 0.6348024\ttotal: 1.91s\tremaining: 1.54s\n",
            "277:\tlearn: 0.6346870\ttotal: 1.92s\tremaining: 1.53s\n",
            "278:\tlearn: 0.6345165\ttotal: 1.92s\tremaining: 1.52s\n",
            "279:\tlearn: 0.6344341\ttotal: 1.93s\tremaining: 1.51s\n",
            "280:\tlearn: 0.6343505\ttotal: 1.93s\tremaining: 1.51s\n",
            "281:\tlearn: 0.6342450\ttotal: 1.94s\tremaining: 1.5s\n",
            "282:\tlearn: 0.6341251\ttotal: 1.95s\tremaining: 1.49s\n",
            "283:\tlearn: 0.6340431\ttotal: 1.95s\tremaining: 1.49s\n",
            "284:\tlearn: 0.6339593\ttotal: 1.96s\tremaining: 1.48s\n",
            "285:\tlearn: 0.6338920\ttotal: 1.97s\tremaining: 1.47s\n",
            "286:\tlearn: 0.6337970\ttotal: 1.98s\tremaining: 1.47s\n",
            "287:\tlearn: 0.6337434\ttotal: 1.98s\tremaining: 1.46s\n",
            "288:\tlearn: 0.6335914\ttotal: 1.99s\tremaining: 1.45s\n",
            "289:\tlearn: 0.6334871\ttotal: 2s\tremaining: 1.45s\n",
            "290:\tlearn: 0.6334126\ttotal: 2.01s\tremaining: 1.44s\n",
            "291:\tlearn: 0.6333243\ttotal: 2.01s\tremaining: 1.43s\n",
            "292:\tlearn: 0.6332528\ttotal: 2.02s\tremaining: 1.43s\n",
            "293:\tlearn: 0.6331305\ttotal: 2.03s\tremaining: 1.42s\n",
            "294:\tlearn: 0.6330106\ttotal: 2.04s\tremaining: 1.41s\n",
            "295:\tlearn: 0.6329697\ttotal: 2.04s\tremaining: 1.41s\n",
            "296:\tlearn: 0.6329165\ttotal: 2.05s\tremaining: 1.4s\n",
            "297:\tlearn: 0.6328073\ttotal: 2.06s\tremaining: 1.39s\n",
            "298:\tlearn: 0.6326818\ttotal: 2.06s\tremaining: 1.39s\n",
            "299:\tlearn: 0.6325597\ttotal: 2.07s\tremaining: 1.38s\n",
            "300:\tlearn: 0.6324435\ttotal: 2.08s\tremaining: 1.37s\n",
            "301:\tlearn: 0.6323398\ttotal: 2.08s\tremaining: 1.37s\n",
            "302:\tlearn: 0.6322570\ttotal: 2.09s\tremaining: 1.36s\n",
            "303:\tlearn: 0.6321481\ttotal: 2.1s\tremaining: 1.35s\n",
            "304:\tlearn: 0.6320404\ttotal: 2.1s\tremaining: 1.34s\n",
            "305:\tlearn: 0.6319702\ttotal: 2.11s\tremaining: 1.34s\n",
            "306:\tlearn: 0.6318371\ttotal: 2.12s\tremaining: 1.33s\n",
            "307:\tlearn: 0.6317437\ttotal: 2.13s\tremaining: 1.32s\n",
            "308:\tlearn: 0.6316546\ttotal: 2.13s\tremaining: 1.32s\n",
            "309:\tlearn: 0.6315464\ttotal: 2.14s\tremaining: 1.31s\n",
            "310:\tlearn: 0.6314826\ttotal: 2.15s\tremaining: 1.3s\n",
            "311:\tlearn: 0.6313812\ttotal: 2.15s\tremaining: 1.3s\n",
            "312:\tlearn: 0.6312801\ttotal: 2.16s\tremaining: 1.29s\n",
            "313:\tlearn: 0.6311848\ttotal: 2.17s\tremaining: 1.28s\n",
            "314:\tlearn: 0.6311247\ttotal: 2.17s\tremaining: 1.27s\n",
            "315:\tlearn: 0.6311036\ttotal: 2.18s\tremaining: 1.27s\n",
            "316:\tlearn: 0.6310752\ttotal: 2.19s\tremaining: 1.26s\n",
            "317:\tlearn: 0.6309580\ttotal: 2.19s\tremaining: 1.25s\n",
            "318:\tlearn: 0.6308608\ttotal: 2.2s\tremaining: 1.25s\n",
            "319:\tlearn: 0.6308053\ttotal: 2.2s\tremaining: 1.24s\n",
            "320:\tlearn: 0.6307018\ttotal: 2.21s\tremaining: 1.23s\n",
            "321:\tlearn: 0.6306057\ttotal: 2.21s\tremaining: 1.22s\n",
            "322:\tlearn: 0.6305331\ttotal: 2.22s\tremaining: 1.22s\n",
            "323:\tlearn: 0.6304227\ttotal: 2.23s\tremaining: 1.21s\n",
            "324:\tlearn: 0.6303171\ttotal: 2.23s\tremaining: 1.2s\n",
            "325:\tlearn: 0.6302220\ttotal: 2.24s\tremaining: 1.2s\n",
            "326:\tlearn: 0.6301523\ttotal: 2.25s\tremaining: 1.19s\n",
            "327:\tlearn: 0.6300322\ttotal: 2.26s\tremaining: 1.18s\n",
            "328:\tlearn: 0.6300058\ttotal: 2.27s\tremaining: 1.18s\n",
            "329:\tlearn: 0.6299114\ttotal: 2.28s\tremaining: 1.17s\n",
            "330:\tlearn: 0.6298083\ttotal: 2.28s\tremaining: 1.17s\n",
            "331:\tlearn: 0.6297159\ttotal: 2.29s\tremaining: 1.16s\n",
            "332:\tlearn: 0.6296490\ttotal: 2.29s\tremaining: 1.15s\n",
            "333:\tlearn: 0.6295508\ttotal: 2.3s\tremaining: 1.14s\n",
            "334:\tlearn: 0.6294475\ttotal: 2.31s\tremaining: 1.14s\n",
            "335:\tlearn: 0.6293337\ttotal: 2.31s\tremaining: 1.13s\n",
            "336:\tlearn: 0.6292321\ttotal: 2.32s\tremaining: 1.12s\n",
            "337:\tlearn: 0.6291665\ttotal: 2.33s\tremaining: 1.12s\n",
            "338:\tlearn: 0.6290634\ttotal: 2.33s\tremaining: 1.11s\n",
            "339:\tlearn: 0.6289795\ttotal: 2.34s\tremaining: 1.1s\n",
            "340:\tlearn: 0.6288509\ttotal: 2.35s\tremaining: 1.09s\n",
            "341:\tlearn: 0.6287994\ttotal: 2.36s\tremaining: 1.09s\n",
            "342:\tlearn: 0.6287294\ttotal: 2.37s\tremaining: 1.08s\n",
            "343:\tlearn: 0.6286609\ttotal: 2.37s\tremaining: 1.08s\n",
            "344:\tlearn: 0.6285653\ttotal: 2.38s\tremaining: 1.07s\n",
            "345:\tlearn: 0.6285160\ttotal: 2.39s\tremaining: 1.06s\n",
            "346:\tlearn: 0.6284738\ttotal: 2.39s\tremaining: 1.06s\n",
            "347:\tlearn: 0.6284471\ttotal: 2.4s\tremaining: 1.05s\n",
            "348:\tlearn: 0.6283288\ttotal: 2.41s\tremaining: 1.04s\n",
            "349:\tlearn: 0.6282344\ttotal: 2.41s\tremaining: 1.03s\n",
            "350:\tlearn: 0.6281720\ttotal: 2.42s\tremaining: 1.03s\n",
            "351:\tlearn: 0.6280751\ttotal: 2.43s\tremaining: 1.02s\n",
            "352:\tlearn: 0.6280131\ttotal: 2.43s\tremaining: 1.01s\n",
            "353:\tlearn: 0.6279666\ttotal: 2.44s\tremaining: 1.01s\n",
            "354:\tlearn: 0.6279229\ttotal: 2.45s\tremaining: 1000ms\n",
            "355:\tlearn: 0.6278878\ttotal: 2.45s\tremaining: 993ms\n",
            "356:\tlearn: 0.6277752\ttotal: 2.46s\tremaining: 986ms\n",
            "357:\tlearn: 0.6277064\ttotal: 2.47s\tremaining: 979ms\n",
            "358:\tlearn: 0.6276157\ttotal: 2.48s\tremaining: 974ms\n",
            "359:\tlearn: 0.6275297\ttotal: 2.48s\tremaining: 967ms\n",
            "360:\tlearn: 0.6274707\ttotal: 2.49s\tremaining: 960ms\n",
            "361:\tlearn: 0.6273841\ttotal: 2.5s\tremaining: 953ms\n",
            "362:\tlearn: 0.6273284\ttotal: 2.51s\tremaining: 946ms\n",
            "363:\tlearn: 0.6272431\ttotal: 2.51s\tremaining: 939ms\n",
            "364:\tlearn: 0.6271389\ttotal: 2.52s\tremaining: 932ms\n",
            "365:\tlearn: 0.6269999\ttotal: 2.53s\tremaining: 925ms\n",
            "366:\tlearn: 0.6269376\ttotal: 2.53s\tremaining: 918ms\n",
            "367:\tlearn: 0.6268977\ttotal: 2.54s\tremaining: 911ms\n",
            "368:\tlearn: 0.6268479\ttotal: 2.55s\tremaining: 904ms\n",
            "369:\tlearn: 0.6267554\ttotal: 2.55s\tremaining: 897ms\n",
            "370:\tlearn: 0.6266493\ttotal: 2.56s\tremaining: 890ms\n",
            "371:\tlearn: 0.6264903\ttotal: 2.57s\tremaining: 883ms\n",
            "372:\tlearn: 0.6263807\ttotal: 2.57s\tremaining: 876ms\n",
            "373:\tlearn: 0.6263214\ttotal: 2.58s\tremaining: 869ms\n",
            "374:\tlearn: 0.6262842\ttotal: 2.58s\tremaining: 862ms\n",
            "375:\tlearn: 0.6262443\ttotal: 2.59s\tremaining: 855ms\n",
            "376:\tlearn: 0.6261496\ttotal: 2.6s\tremaining: 848ms\n",
            "377:\tlearn: 0.6260591\ttotal: 2.6s\tremaining: 841ms\n",
            "378:\tlearn: 0.6259593\ttotal: 2.61s\tremaining: 834ms\n",
            "379:\tlearn: 0.6259067\ttotal: 2.62s\tremaining: 827ms\n",
            "380:\tlearn: 0.6258361\ttotal: 2.63s\tremaining: 820ms\n",
            "381:\tlearn: 0.6257867\ttotal: 2.63s\tremaining: 814ms\n",
            "382:\tlearn: 0.6257005\ttotal: 2.64s\tremaining: 806ms\n",
            "383:\tlearn: 0.6256028\ttotal: 2.65s\tremaining: 799ms\n",
            "384:\tlearn: 0.6255168\ttotal: 2.65s\tremaining: 792ms\n",
            "385:\tlearn: 0.6254694\ttotal: 2.66s\tremaining: 785ms\n",
            "386:\tlearn: 0.6253880\ttotal: 2.67s\tremaining: 778ms\n",
            "387:\tlearn: 0.6253154\ttotal: 2.67s\tremaining: 772ms\n",
            "388:\tlearn: 0.6252634\ttotal: 2.68s\tremaining: 765ms\n",
            "389:\tlearn: 0.6251700\ttotal: 2.69s\tremaining: 759ms\n",
            "390:\tlearn: 0.6250414\ttotal: 2.69s\tremaining: 752ms\n",
            "391:\tlearn: 0.6249798\ttotal: 2.71s\tremaining: 745ms\n",
            "392:\tlearn: 0.6249129\ttotal: 2.72s\tremaining: 740ms\n",
            "393:\tlearn: 0.6248759\ttotal: 2.73s\tremaining: 733ms\n",
            "394:\tlearn: 0.6247983\ttotal: 2.73s\tremaining: 726ms\n",
            "395:\tlearn: 0.6247055\ttotal: 2.74s\tremaining: 719ms\n",
            "396:\tlearn: 0.6246152\ttotal: 2.75s\tremaining: 713ms\n",
            "397:\tlearn: 0.6245835\ttotal: 2.75s\tremaining: 706ms\n",
            "398:\tlearn: 0.6245227\ttotal: 2.76s\tremaining: 699ms\n",
            "399:\tlearn: 0.6244898\ttotal: 2.77s\tremaining: 692ms\n",
            "400:\tlearn: 0.6244211\ttotal: 2.78s\tremaining: 685ms\n",
            "401:\tlearn: 0.6243676\ttotal: 2.79s\tremaining: 680ms\n",
            "402:\tlearn: 0.6242871\ttotal: 2.8s\tremaining: 673ms\n",
            "403:\tlearn: 0.6242448\ttotal: 2.8s\tremaining: 666ms\n",
            "404:\tlearn: 0.6241996\ttotal: 2.81s\tremaining: 659ms\n",
            "405:\tlearn: 0.6241571\ttotal: 2.82s\tremaining: 652ms\n",
            "406:\tlearn: 0.6240642\ttotal: 2.82s\tremaining: 645ms\n",
            "407:\tlearn: 0.6240023\ttotal: 2.83s\tremaining: 638ms\n",
            "408:\tlearn: 0.6239421\ttotal: 2.84s\tremaining: 631ms\n",
            "409:\tlearn: 0.6238734\ttotal: 2.84s\tremaining: 624ms\n",
            "410:\tlearn: 0.6238064\ttotal: 2.85s\tremaining: 617ms\n",
            "411:\tlearn: 0.6237298\ttotal: 2.86s\tremaining: 610ms\n",
            "412:\tlearn: 0.6237028\ttotal: 2.86s\tremaining: 603ms\n",
            "413:\tlearn: 0.6236578\ttotal: 2.87s\tremaining: 596ms\n",
            "414:\tlearn: 0.6235772\ttotal: 2.88s\tremaining: 589ms\n",
            "415:\tlearn: 0.6235099\ttotal: 2.89s\tremaining: 583ms\n",
            "416:\tlearn: 0.6234015\ttotal: 2.89s\tremaining: 576ms\n",
            "417:\tlearn: 0.6232996\ttotal: 2.9s\tremaining: 569ms\n",
            "418:\tlearn: 0.6232266\ttotal: 2.91s\tremaining: 562ms\n",
            "419:\tlearn: 0.6231394\ttotal: 2.91s\tremaining: 555ms\n",
            "420:\tlearn: 0.6229815\ttotal: 2.92s\tremaining: 548ms\n",
            "421:\tlearn: 0.6228836\ttotal: 2.92s\tremaining: 541ms\n",
            "422:\tlearn: 0.6228620\ttotal: 2.93s\tremaining: 534ms\n",
            "423:\tlearn: 0.6228036\ttotal: 2.94s\tremaining: 527ms\n",
            "424:\tlearn: 0.6226797\ttotal: 2.94s\tremaining: 520ms\n",
            "425:\tlearn: 0.6225741\ttotal: 2.95s\tremaining: 513ms\n",
            "426:\tlearn: 0.6225524\ttotal: 2.96s\tremaining: 506ms\n",
            "427:\tlearn: 0.6224509\ttotal: 2.96s\tremaining: 499ms\n",
            "428:\tlearn: 0.6223589\ttotal: 2.97s\tremaining: 492ms\n",
            "429:\tlearn: 0.6222573\ttotal: 2.98s\tremaining: 485ms\n",
            "430:\tlearn: 0.6222281\ttotal: 2.98s\tremaining: 478ms\n",
            "431:\tlearn: 0.6221159\ttotal: 2.99s\tremaining: 471ms\n",
            "432:\tlearn: 0.6220321\ttotal: 3s\tremaining: 464ms\n",
            "433:\tlearn: 0.6219279\ttotal: 3s\tremaining: 457ms\n",
            "434:\tlearn: 0.6218807\ttotal: 3.01s\tremaining: 450ms\n",
            "435:\tlearn: 0.6217929\ttotal: 3.02s\tremaining: 443ms\n",
            "436:\tlearn: 0.6217135\ttotal: 3.02s\tremaining: 436ms\n",
            "437:\tlearn: 0.6216197\ttotal: 3.03s\tremaining: 429ms\n",
            "438:\tlearn: 0.6215422\ttotal: 3.04s\tremaining: 422ms\n",
            "439:\tlearn: 0.6214225\ttotal: 3.04s\tremaining: 415ms\n",
            "440:\tlearn: 0.6213273\ttotal: 3.05s\tremaining: 408ms\n",
            "441:\tlearn: 0.6212977\ttotal: 3.06s\tremaining: 401ms\n",
            "442:\tlearn: 0.6212482\ttotal: 3.06s\tremaining: 394ms\n",
            "443:\tlearn: 0.6211784\ttotal: 3.07s\tremaining: 387ms\n",
            "444:\tlearn: 0.6211162\ttotal: 3.08s\tremaining: 380ms\n",
            "445:\tlearn: 0.6209815\ttotal: 3.08s\tremaining: 374ms\n",
            "446:\tlearn: 0.6209353\ttotal: 3.09s\tremaining: 367ms\n",
            "447:\tlearn: 0.6209031\ttotal: 3.1s\tremaining: 360ms\n",
            "448:\tlearn: 0.6208227\ttotal: 3.11s\tremaining: 353ms\n",
            "449:\tlearn: 0.6207928\ttotal: 3.11s\tremaining: 346ms\n",
            "450:\tlearn: 0.6207857\ttotal: 3.12s\tremaining: 339ms\n",
            "451:\tlearn: 0.6207388\ttotal: 3.13s\tremaining: 332ms\n",
            "452:\tlearn: 0.6206830\ttotal: 3.14s\tremaining: 325ms\n",
            "453:\tlearn: 0.6205703\ttotal: 3.14s\tremaining: 319ms\n",
            "454:\tlearn: 0.6205033\ttotal: 3.15s\tremaining: 312ms\n",
            "455:\tlearn: 0.6204211\ttotal: 3.16s\tremaining: 305ms\n",
            "456:\tlearn: 0.6203637\ttotal: 3.16s\tremaining: 298ms\n",
            "457:\tlearn: 0.6203231\ttotal: 3.17s\tremaining: 291ms\n",
            "458:\tlearn: 0.6202502\ttotal: 3.18s\tremaining: 284ms\n",
            "459:\tlearn: 0.6201855\ttotal: 3.18s\tremaining: 277ms\n",
            "460:\tlearn: 0.6201576\ttotal: 3.19s\tremaining: 270ms\n",
            "461:\tlearn: 0.6201366\ttotal: 3.2s\tremaining: 263ms\n",
            "462:\tlearn: 0.6200947\ttotal: 3.2s\tremaining: 256ms\n",
            "463:\tlearn: 0.6200646\ttotal: 3.21s\tremaining: 249ms\n",
            "464:\tlearn: 0.6199736\ttotal: 3.22s\tremaining: 242ms\n",
            "465:\tlearn: 0.6198823\ttotal: 3.22s\tremaining: 235ms\n",
            "466:\tlearn: 0.6197899\ttotal: 3.23s\tremaining: 228ms\n",
            "467:\tlearn: 0.6197417\ttotal: 3.24s\tremaining: 221ms\n",
            "468:\tlearn: 0.6196575\ttotal: 3.24s\tremaining: 214ms\n",
            "469:\tlearn: 0.6195557\ttotal: 3.25s\tremaining: 207ms\n",
            "470:\tlearn: 0.6195172\ttotal: 3.26s\tremaining: 201ms\n",
            "471:\tlearn: 0.6194285\ttotal: 3.26s\tremaining: 194ms\n",
            "472:\tlearn: 0.6193148\ttotal: 3.27s\tremaining: 187ms\n",
            "473:\tlearn: 0.6192128\ttotal: 3.27s\tremaining: 180ms\n",
            "474:\tlearn: 0.6191205\ttotal: 3.28s\tremaining: 173ms\n",
            "475:\tlearn: 0.6190672\ttotal: 3.29s\tremaining: 166ms\n",
            "476:\tlearn: 0.6189779\ttotal: 3.3s\tremaining: 159ms\n",
            "477:\tlearn: 0.6189347\ttotal: 3.31s\tremaining: 152ms\n",
            "478:\tlearn: 0.6188775\ttotal: 3.31s\tremaining: 145ms\n",
            "479:\tlearn: 0.6188056\ttotal: 3.32s\tremaining: 138ms\n",
            "480:\tlearn: 0.6187582\ttotal: 3.33s\tremaining: 131ms\n",
            "481:\tlearn: 0.6186987\ttotal: 3.33s\tremaining: 124ms\n",
            "482:\tlearn: 0.6186168\ttotal: 3.34s\tremaining: 117ms\n",
            "483:\tlearn: 0.6185561\ttotal: 3.34s\tremaining: 111ms\n",
            "484:\tlearn: 0.6185010\ttotal: 3.35s\tremaining: 104ms\n",
            "485:\tlearn: 0.6184311\ttotal: 3.36s\tremaining: 96.7ms\n",
            "486:\tlearn: 0.6183247\ttotal: 3.36s\tremaining: 89.8ms\n",
            "487:\tlearn: 0.6182870\ttotal: 3.37s\tremaining: 82.9ms\n",
            "488:\tlearn: 0.6182433\ttotal: 3.38s\tremaining: 76ms\n",
            "489:\tlearn: 0.6181534\ttotal: 3.38s\tremaining: 69ms\n",
            "490:\tlearn: 0.6180932\ttotal: 3.39s\tremaining: 62.1ms\n",
            "491:\tlearn: 0.6180040\ttotal: 3.4s\tremaining: 55.2ms\n",
            "492:\tlearn: 0.6179209\ttotal: 3.4s\tremaining: 48.3ms\n",
            "493:\tlearn: 0.6178474\ttotal: 3.41s\tremaining: 41.4ms\n",
            "494:\tlearn: 0.6177850\ttotal: 3.42s\tremaining: 34.5ms\n",
            "495:\tlearn: 0.6177457\ttotal: 3.42s\tremaining: 27.6ms\n",
            "496:\tlearn: 0.6176901\ttotal: 3.43s\tremaining: 20.7ms\n",
            "497:\tlearn: 0.6176004\ttotal: 3.44s\tremaining: 13.8ms\n",
            "498:\tlearn: 0.6175378\ttotal: 3.44s\tremaining: 6.9ms\n",
            "499:\tlearn: 0.6175259\ttotal: 3.45s\tremaining: 0us\n"
          ],
          "name": "stdout"
        }
      ]
    },
    {
      "cell_type": "code",
      "metadata": {
        "colab": {
          "base_uri": "https://localhost:8080/"
        },
        "id": "wqk_deHZZrxO",
        "outputId": "4cab78a7-5ad0-4763-e3d0-140256944ef8"
      },
      "source": [
        "catb_cv_model.best_params_"
      ],
      "execution_count": null,
      "outputs": [
        {
          "output_type": "execute_result",
          "data": {
            "text/plain": [
              "{'depth': 4, 'iterations': 500, 'learning_rate': 0.05}"
            ]
          },
          "metadata": {
            "tags": []
          },
          "execution_count": 97
        }
      ]
    },
    {
      "cell_type": "code",
      "metadata": {
        "colab": {
          "base_uri": "https://localhost:8080/"
        },
        "id": "3a4VJ-m3Zr2G",
        "outputId": "d2138135-44c6-4038-e9ae-1cac8f54cc06"
      },
      "source": [
        "catb_tuned =CatBoostClassifier(depth=5,iterations=200,learning_rate=0.05).fit(X_train_importance, y_train)"
      ],
      "execution_count": null,
      "outputs": [
        {
          "output_type": "stream",
          "text": [
            "0:\tlearn: 0.6900661\ttotal: 7.12ms\tremaining: 1.42s\n",
            "1:\tlearn: 0.6871763\ttotal: 15.3ms\tremaining: 1.52s\n",
            "2:\tlearn: 0.6849519\ttotal: 23.3ms\tremaining: 1.53s\n",
            "3:\tlearn: 0.6828116\ttotal: 30.9ms\tremaining: 1.51s\n",
            "4:\tlearn: 0.6808008\ttotal: 38.6ms\tremaining: 1.5s\n",
            "5:\tlearn: 0.6787597\ttotal: 45.9ms\tremaining: 1.48s\n",
            "6:\tlearn: 0.6770455\ttotal: 53.4ms\tremaining: 1.47s\n",
            "7:\tlearn: 0.6758093\ttotal: 60.7ms\tremaining: 1.46s\n",
            "8:\tlearn: 0.6746384\ttotal: 68.4ms\tremaining: 1.45s\n",
            "9:\tlearn: 0.6734743\ttotal: 75.8ms\tremaining: 1.44s\n",
            "10:\tlearn: 0.6721828\ttotal: 82.9ms\tremaining: 1.42s\n",
            "11:\tlearn: 0.6711339\ttotal: 89.7ms\tremaining: 1.41s\n",
            "12:\tlearn: 0.6698476\ttotal: 95.9ms\tremaining: 1.38s\n",
            "13:\tlearn: 0.6688904\ttotal: 103ms\tremaining: 1.37s\n",
            "14:\tlearn: 0.6676830\ttotal: 111ms\tremaining: 1.37s\n",
            "15:\tlearn: 0.6668695\ttotal: 118ms\tremaining: 1.36s\n",
            "16:\tlearn: 0.6662971\ttotal: 125ms\tremaining: 1.35s\n",
            "17:\tlearn: 0.6653481\ttotal: 133ms\tremaining: 1.34s\n",
            "18:\tlearn: 0.6646179\ttotal: 140ms\tremaining: 1.34s\n",
            "19:\tlearn: 0.6638671\ttotal: 148ms\tremaining: 1.33s\n",
            "20:\tlearn: 0.6632112\ttotal: 156ms\tremaining: 1.33s\n",
            "21:\tlearn: 0.6627892\ttotal: 163ms\tremaining: 1.32s\n",
            "22:\tlearn: 0.6621950\ttotal: 171ms\tremaining: 1.31s\n",
            "23:\tlearn: 0.6617167\ttotal: 178ms\tremaining: 1.31s\n",
            "24:\tlearn: 0.6611949\ttotal: 186ms\tremaining: 1.3s\n",
            "25:\tlearn: 0.6606884\ttotal: 193ms\tremaining: 1.29s\n",
            "26:\tlearn: 0.6602111\ttotal: 201ms\tremaining: 1.29s\n",
            "27:\tlearn: 0.6597966\ttotal: 214ms\tremaining: 1.31s\n",
            "28:\tlearn: 0.6594525\ttotal: 221ms\tremaining: 1.3s\n",
            "29:\tlearn: 0.6590201\ttotal: 229ms\tremaining: 1.3s\n",
            "30:\tlearn: 0.6587725\ttotal: 236ms\tremaining: 1.29s\n",
            "31:\tlearn: 0.6584370\ttotal: 244ms\tremaining: 1.28s\n",
            "32:\tlearn: 0.6580878\ttotal: 251ms\tremaining: 1.27s\n",
            "33:\tlearn: 0.6578618\ttotal: 259ms\tremaining: 1.26s\n",
            "34:\tlearn: 0.6575778\ttotal: 266ms\tremaining: 1.25s\n",
            "35:\tlearn: 0.6571915\ttotal: 273ms\tremaining: 1.24s\n",
            "36:\tlearn: 0.6568048\ttotal: 281ms\tremaining: 1.24s\n",
            "37:\tlearn: 0.6565015\ttotal: 288ms\tremaining: 1.23s\n",
            "38:\tlearn: 0.6562740\ttotal: 296ms\tremaining: 1.22s\n",
            "39:\tlearn: 0.6560330\ttotal: 303ms\tremaining: 1.21s\n",
            "40:\tlearn: 0.6557697\ttotal: 310ms\tremaining: 1.2s\n",
            "41:\tlearn: 0.6556049\ttotal: 318ms\tremaining: 1.2s\n",
            "42:\tlearn: 0.6554110\ttotal: 325ms\tremaining: 1.19s\n",
            "43:\tlearn: 0.6551833\ttotal: 334ms\tremaining: 1.19s\n",
            "44:\tlearn: 0.6549238\ttotal: 342ms\tremaining: 1.18s\n",
            "45:\tlearn: 0.6546764\ttotal: 351ms\tremaining: 1.17s\n",
            "46:\tlearn: 0.6544016\ttotal: 358ms\tremaining: 1.16s\n",
            "47:\tlearn: 0.6540868\ttotal: 366ms\tremaining: 1.16s\n",
            "48:\tlearn: 0.6537956\ttotal: 373ms\tremaining: 1.15s\n",
            "49:\tlearn: 0.6536474\ttotal: 380ms\tremaining: 1.14s\n",
            "50:\tlearn: 0.6534802\ttotal: 387ms\tremaining: 1.13s\n",
            "51:\tlearn: 0.6532898\ttotal: 395ms\tremaining: 1.12s\n",
            "52:\tlearn: 0.6530444\ttotal: 402ms\tremaining: 1.11s\n",
            "53:\tlearn: 0.6528911\ttotal: 411ms\tremaining: 1.11s\n",
            "54:\tlearn: 0.6525929\ttotal: 421ms\tremaining: 1.11s\n",
            "55:\tlearn: 0.6523575\ttotal: 429ms\tremaining: 1.1s\n",
            "56:\tlearn: 0.6521848\ttotal: 436ms\tremaining: 1.09s\n",
            "57:\tlearn: 0.6519986\ttotal: 444ms\tremaining: 1.09s\n",
            "58:\tlearn: 0.6517826\ttotal: 451ms\tremaining: 1.08s\n",
            "59:\tlearn: 0.6515293\ttotal: 459ms\tremaining: 1.07s\n",
            "60:\tlearn: 0.6514168\ttotal: 466ms\tremaining: 1.06s\n",
            "61:\tlearn: 0.6511810\ttotal: 474ms\tremaining: 1.05s\n",
            "62:\tlearn: 0.6510107\ttotal: 481ms\tremaining: 1.05s\n",
            "63:\tlearn: 0.6508993\ttotal: 489ms\tremaining: 1.04s\n",
            "64:\tlearn: 0.6507897\ttotal: 495ms\tremaining: 1.03s\n",
            "65:\tlearn: 0.6506648\ttotal: 503ms\tremaining: 1.02s\n",
            "66:\tlearn: 0.6505368\ttotal: 510ms\tremaining: 1.01s\n",
            "67:\tlearn: 0.6502743\ttotal: 518ms\tremaining: 1s\n",
            "68:\tlearn: 0.6500878\ttotal: 526ms\tremaining: 998ms\n",
            "69:\tlearn: 0.6498285\ttotal: 533ms\tremaining: 990ms\n",
            "70:\tlearn: 0.6495881\ttotal: 541ms\tremaining: 983ms\n",
            "71:\tlearn: 0.6494737\ttotal: 548ms\tremaining: 974ms\n",
            "72:\tlearn: 0.6491629\ttotal: 556ms\tremaining: 967ms\n",
            "73:\tlearn: 0.6489616\ttotal: 564ms\tremaining: 960ms\n",
            "74:\tlearn: 0.6488232\ttotal: 571ms\tremaining: 952ms\n",
            "75:\tlearn: 0.6487550\ttotal: 578ms\tremaining: 944ms\n",
            "76:\tlearn: 0.6485679\ttotal: 586ms\tremaining: 936ms\n",
            "77:\tlearn: 0.6484545\ttotal: 593ms\tremaining: 927ms\n",
            "78:\tlearn: 0.6483065\ttotal: 600ms\tremaining: 919ms\n",
            "79:\tlearn: 0.6481458\ttotal: 608ms\tremaining: 912ms\n",
            "80:\tlearn: 0.6480493\ttotal: 625ms\tremaining: 918ms\n",
            "81:\tlearn: 0.6477564\ttotal: 634ms\tremaining: 912ms\n",
            "82:\tlearn: 0.6475873\ttotal: 641ms\tremaining: 903ms\n",
            "83:\tlearn: 0.6474234\ttotal: 648ms\tremaining: 895ms\n",
            "84:\tlearn: 0.6472690\ttotal: 656ms\tremaining: 887ms\n",
            "85:\tlearn: 0.6471498\ttotal: 663ms\tremaining: 879ms\n",
            "86:\tlearn: 0.6469667\ttotal: 670ms\tremaining: 871ms\n",
            "87:\tlearn: 0.6468499\ttotal: 678ms\tremaining: 863ms\n",
            "88:\tlearn: 0.6465624\ttotal: 686ms\tremaining: 855ms\n",
            "89:\tlearn: 0.6464457\ttotal: 693ms\tremaining: 847ms\n",
            "90:\tlearn: 0.6462287\ttotal: 701ms\tremaining: 839ms\n",
            "91:\tlearn: 0.6460822\ttotal: 708ms\tremaining: 832ms\n",
            "92:\tlearn: 0.6459272\ttotal: 716ms\tremaining: 824ms\n",
            "93:\tlearn: 0.6457631\ttotal: 723ms\tremaining: 816ms\n",
            "94:\tlearn: 0.6456264\ttotal: 731ms\tremaining: 808ms\n",
            "95:\tlearn: 0.6454610\ttotal: 740ms\tremaining: 802ms\n",
            "96:\tlearn: 0.6453129\ttotal: 747ms\tremaining: 793ms\n",
            "97:\tlearn: 0.6452547\ttotal: 756ms\tremaining: 787ms\n",
            "98:\tlearn: 0.6450942\ttotal: 766ms\tremaining: 781ms\n",
            "99:\tlearn: 0.6448939\ttotal: 773ms\tremaining: 773ms\n",
            "100:\tlearn: 0.6445934\ttotal: 781ms\tremaining: 765ms\n",
            "101:\tlearn: 0.6444271\ttotal: 788ms\tremaining: 757ms\n",
            "102:\tlearn: 0.6443232\ttotal: 796ms\tremaining: 750ms\n",
            "103:\tlearn: 0.6441433\ttotal: 804ms\tremaining: 742ms\n",
            "104:\tlearn: 0.6439934\ttotal: 811ms\tremaining: 734ms\n",
            "105:\tlearn: 0.6438574\ttotal: 819ms\tremaining: 726ms\n",
            "106:\tlearn: 0.6437446\ttotal: 830ms\tremaining: 721ms\n",
            "107:\tlearn: 0.6436730\ttotal: 838ms\tremaining: 713ms\n",
            "108:\tlearn: 0.6436146\ttotal: 844ms\tremaining: 704ms\n",
            "109:\tlearn: 0.6434621\ttotal: 851ms\tremaining: 696ms\n",
            "110:\tlearn: 0.6433174\ttotal: 858ms\tremaining: 688ms\n",
            "111:\tlearn: 0.6432075\ttotal: 866ms\tremaining: 680ms\n",
            "112:\tlearn: 0.6430479\ttotal: 873ms\tremaining: 672ms\n",
            "113:\tlearn: 0.6429504\ttotal: 880ms\tremaining: 664ms\n",
            "114:\tlearn: 0.6427488\ttotal: 888ms\tremaining: 656ms\n",
            "115:\tlearn: 0.6425974\ttotal: 896ms\tremaining: 649ms\n",
            "116:\tlearn: 0.6425356\ttotal: 903ms\tremaining: 641ms\n",
            "117:\tlearn: 0.6424337\ttotal: 910ms\tremaining: 633ms\n",
            "118:\tlearn: 0.6423066\ttotal: 918ms\tremaining: 625ms\n",
            "119:\tlearn: 0.6421909\ttotal: 926ms\tremaining: 617ms\n",
            "120:\tlearn: 0.6421006\ttotal: 933ms\tremaining: 609ms\n",
            "121:\tlearn: 0.6418714\ttotal: 941ms\tremaining: 602ms\n",
            "122:\tlearn: 0.6416758\ttotal: 949ms\tremaining: 594ms\n",
            "123:\tlearn: 0.6414454\ttotal: 956ms\tremaining: 586ms\n",
            "124:\tlearn: 0.6413565\ttotal: 963ms\tremaining: 578ms\n",
            "125:\tlearn: 0.6412489\ttotal: 971ms\tremaining: 570ms\n",
            "126:\tlearn: 0.6411203\ttotal: 978ms\tremaining: 562ms\n",
            "127:\tlearn: 0.6409483\ttotal: 986ms\tremaining: 555ms\n",
            "128:\tlearn: 0.6408185\ttotal: 994ms\tremaining: 547ms\n",
            "129:\tlearn: 0.6407165\ttotal: 1s\tremaining: 539ms\n",
            "130:\tlearn: 0.6406193\ttotal: 1.01s\tremaining: 531ms\n",
            "131:\tlearn: 0.6404793\ttotal: 1.01s\tremaining: 523ms\n",
            "132:\tlearn: 0.6404094\ttotal: 1.02s\tremaining: 516ms\n",
            "133:\tlearn: 0.6402733\ttotal: 1.03s\tremaining: 510ms\n",
            "134:\tlearn: 0.6401236\ttotal: 1.04s\tremaining: 502ms\n",
            "135:\tlearn: 0.6400135\ttotal: 1.05s\tremaining: 494ms\n",
            "136:\tlearn: 0.6398097\ttotal: 1.06s\tremaining: 487ms\n",
            "137:\tlearn: 0.6396762\ttotal: 1.07s\tremaining: 479ms\n",
            "138:\tlearn: 0.6395005\ttotal: 1.07s\tremaining: 471ms\n",
            "139:\tlearn: 0.6394209\ttotal: 1.08s\tremaining: 463ms\n",
            "140:\tlearn: 0.6391957\ttotal: 1.09s\tremaining: 456ms\n",
            "141:\tlearn: 0.6390960\ttotal: 1.1s\tremaining: 448ms\n",
            "142:\tlearn: 0.6389674\ttotal: 1.1s\tremaining: 440ms\n",
            "143:\tlearn: 0.6388856\ttotal: 1.12s\tremaining: 434ms\n",
            "144:\tlearn: 0.6387302\ttotal: 1.12s\tremaining: 426ms\n",
            "145:\tlearn: 0.6386872\ttotal: 1.13s\tremaining: 418ms\n",
            "146:\tlearn: 0.6386368\ttotal: 1.14s\tremaining: 411ms\n",
            "147:\tlearn: 0.6385618\ttotal: 1.15s\tremaining: 403ms\n",
            "148:\tlearn: 0.6384428\ttotal: 1.15s\tremaining: 395ms\n",
            "149:\tlearn: 0.6383282\ttotal: 1.16s\tremaining: 387ms\n",
            "150:\tlearn: 0.6382434\ttotal: 1.17s\tremaining: 379ms\n",
            "151:\tlearn: 0.6381353\ttotal: 1.18s\tremaining: 371ms\n",
            "152:\tlearn: 0.6380904\ttotal: 1.18s\tremaining: 364ms\n",
            "153:\tlearn: 0.6379598\ttotal: 1.19s\tremaining: 356ms\n",
            "154:\tlearn: 0.6377949\ttotal: 1.2s\tremaining: 348ms\n",
            "155:\tlearn: 0.6376410\ttotal: 1.21s\tremaining: 340ms\n",
            "156:\tlearn: 0.6375414\ttotal: 1.21s\tremaining: 333ms\n",
            "157:\tlearn: 0.6373751\ttotal: 1.22s\tremaining: 325ms\n",
            "158:\tlearn: 0.6373082\ttotal: 1.23s\tremaining: 318ms\n",
            "159:\tlearn: 0.6371817\ttotal: 1.24s\tremaining: 310ms\n",
            "160:\tlearn: 0.6370693\ttotal: 1.25s\tremaining: 303ms\n",
            "161:\tlearn: 0.6369328\ttotal: 1.26s\tremaining: 295ms\n",
            "162:\tlearn: 0.6368155\ttotal: 1.26s\tremaining: 287ms\n",
            "163:\tlearn: 0.6366531\ttotal: 1.27s\tremaining: 279ms\n",
            "164:\tlearn: 0.6365186\ttotal: 1.28s\tremaining: 271ms\n",
            "165:\tlearn: 0.6364729\ttotal: 1.29s\tremaining: 264ms\n",
            "166:\tlearn: 0.6363435\ttotal: 1.29s\tremaining: 256ms\n",
            "167:\tlearn: 0.6361983\ttotal: 1.3s\tremaining: 248ms\n",
            "168:\tlearn: 0.6360419\ttotal: 1.31s\tremaining: 240ms\n",
            "169:\tlearn: 0.6358930\ttotal: 1.32s\tremaining: 233ms\n",
            "170:\tlearn: 0.6357985\ttotal: 1.32s\tremaining: 225ms\n",
            "171:\tlearn: 0.6357192\ttotal: 1.33s\tremaining: 217ms\n",
            "172:\tlearn: 0.6355859\ttotal: 1.34s\tremaining: 209ms\n",
            "173:\tlearn: 0.6354293\ttotal: 1.35s\tremaining: 202ms\n",
            "174:\tlearn: 0.6353132\ttotal: 1.36s\tremaining: 194ms\n",
            "175:\tlearn: 0.6351667\ttotal: 1.36s\tremaining: 186ms\n",
            "176:\tlearn: 0.6349948\ttotal: 1.37s\tremaining: 178ms\n",
            "177:\tlearn: 0.6349017\ttotal: 1.38s\tremaining: 170ms\n",
            "178:\tlearn: 0.6348566\ttotal: 1.39s\tremaining: 163ms\n",
            "179:\tlearn: 0.6347484\ttotal: 1.39s\tremaining: 155ms\n",
            "180:\tlearn: 0.6346417\ttotal: 1.4s\tremaining: 147ms\n",
            "181:\tlearn: 0.6345219\ttotal: 1.41s\tremaining: 139ms\n",
            "182:\tlearn: 0.6343953\ttotal: 1.42s\tremaining: 132ms\n",
            "183:\tlearn: 0.6342392\ttotal: 1.43s\tremaining: 124ms\n",
            "184:\tlearn: 0.6341670\ttotal: 1.44s\tremaining: 117ms\n",
            "185:\tlearn: 0.6340807\ttotal: 1.45s\tremaining: 109ms\n",
            "186:\tlearn: 0.6338216\ttotal: 1.45s\tremaining: 101ms\n",
            "187:\tlearn: 0.6337122\ttotal: 1.46s\tremaining: 93.2ms\n",
            "188:\tlearn: 0.6335843\ttotal: 1.47s\tremaining: 85.4ms\n",
            "189:\tlearn: 0.6334815\ttotal: 1.48s\tremaining: 77.9ms\n",
            "190:\tlearn: 0.6333835\ttotal: 1.49s\tremaining: 70.1ms\n",
            "191:\tlearn: 0.6332317\ttotal: 1.49s\tremaining: 62.3ms\n",
            "192:\tlearn: 0.6331642\ttotal: 1.5s\tremaining: 54.6ms\n",
            "193:\tlearn: 0.6330461\ttotal: 1.51s\tremaining: 46.8ms\n",
            "194:\tlearn: 0.6329148\ttotal: 1.52s\tremaining: 39ms\n",
            "195:\tlearn: 0.6327416\ttotal: 1.53s\tremaining: 31.2ms\n",
            "196:\tlearn: 0.6326251\ttotal: 1.53s\tremaining: 23.4ms\n",
            "197:\tlearn: 0.6325177\ttotal: 1.54s\tremaining: 15.6ms\n",
            "198:\tlearn: 0.6323339\ttotal: 1.55s\tremaining: 7.79ms\n",
            "199:\tlearn: 0.6323088\ttotal: 1.56s\tremaining: 0us\n"
          ],
          "name": "stdout"
        }
      ]
    },
    {
      "cell_type": "code",
      "metadata": {
        "colab": {
          "base_uri": "https://localhost:8080/"
        },
        "id": "w4surzz-Zr71",
        "outputId": "c97d65eb-232e-46f6-c3aa-2d8fa65eb107"
      },
      "source": [
        "\r\n",
        "\r\n",
        "print('Optimized CATBOOST')\r\n",
        "y_train_preds_catb = catb_tuned.predict_proba(X_train_importance)[:,1]\r\n",
        "y_val_preds_catb = catb_tuned.predict_proba(X_val_importance)[:,1]\r\n",
        "\r\n",
        "catb_train_auc = roc_auc_score(y_train, y_train_preds_catb)\r\n",
        "catb_val_auc = roc_auc_score(y_val, y_val_preds_catb)\r\n",
        "\r\n",
        "print('Training AUC:%.3f'%(catb_train_auc))\r\n",
        "print('Validation AUC:%.3f'%(catb_val_auc))"
      ],
      "execution_count": null,
      "outputs": [
        {
          "output_type": "stream",
          "text": [
            "Optimized CATBOOST\n",
            "Training AUC:0.699\n",
            "Validation AUC:0.654\n"
          ],
          "name": "stdout"
        }
      ]
    },
    {
      "cell_type": "markdown",
      "metadata": {
        "id": "LexiF8TTA-vT"
      },
      "source": [
        "## choosing best model"
      ]
    },
    {
      "cell_type": "code",
      "metadata": {
        "id": "V_KHc_W4Zr_n"
      },
      "source": [
        "classifiers = [\r\n",
        "                lgbm_tuned,\r\n",
        "                catb_tuned]\r\n",
        "\r\n",
        "# Define a result table as a DataFrame\r\n",
        "result_table = pd.DataFrame(columns=['classifiers', 'fpr','tpr','auc'])\r\n",
        "\r\n",
        "# Train the models and record the results\r\n",
        "for cls in classifiers:\r\n",
        "    yproba = cls.predict_proba(X_test_importance)[::,1]\r\n",
        "    \r\n",
        "    fpr, tpr, _ = roc_curve(y_test,  yproba)\r\n",
        "    auc = roc_auc_score(y_test, yproba)\r\n",
        "    \r\n",
        "    result_table = result_table.append({'classifiers':cls.__class__.__name__,\r\n",
        "                                        'fpr':fpr, \r\n",
        "                                        'tpr':tpr, \r\n",
        "                                        'auc':auc}, ignore_index=True)\r\n",
        "\r\n",
        "# Set name of the classifiers as index labels\r\n",
        "result_table.set_index('classifiers', inplace=True)\r\n",
        "result_table.sort_values('auc',ascending=False,inplace=True)"
      ],
      "execution_count": null,
      "outputs": []
    },
    {
      "cell_type": "code",
      "metadata": {
        "colab": {
          "base_uri": "https://localhost:8080/",
          "height": 410
        },
        "id": "kE_0wRkPZsH2",
        "outputId": "a059b6c0-9593-409d-b8bd-b7878dfe13eb"
      },
      "source": [
        "fig = plt.figure(figsize=(10,6))\r\n",
        "\r\n",
        "for i in result_table.index:\r\n",
        "    plt.plot(result_table.loc[i]['fpr'], \r\n",
        "             result_table.loc[i]['tpr'], \r\n",
        "             label=\"{}, AUC={:.3f}\".format(i, result_table.loc[i]['auc']))\r\n",
        "    \r\n",
        "plt.plot([0,1], [0,1], color='black', linestyle='--')\r\n",
        "\r\n",
        "plt.xticks(np.arange(0.0, 1.1, step=0.1))\r\n",
        "plt.xlabel(\"False Positive Rate\", fontsize=14)\r\n",
        "\r\n",
        "plt.yticks(np.arange(0.0, 1.1, step=0.1))\r\n",
        "plt.ylabel(\"True Positive Rate\", fontsize=14)\r\n",
        "\r\n",
        "plt.title('ROC Curve Analysis', fontweight='bold', fontsize=15)\r\n",
        "plt.legend(prop={'size':10}, loc='lower right')\r\n",
        "\r\n",
        "plt.show()"
      ],
      "execution_count": null,
      "outputs": [
        {
          "output_type": "display_data",
          "data": {
            "image/png": "[encoded data removed]",
            "text/plain": [
              "<Figure size 720x432 with 1 Axes>"
            ]
          },
          "metadata": {
            "tags": [],
            "needs_background": "light"
          }
        }
      ]
    },
    {
      "cell_type": "code",
      "metadata": {
        "id": "puOyvvJzO02_"
      },
      "source": [
        "\r\n",
        "def test_scores(y_actual, y_pred, thresh):\r\n",
        "    \r\n",
        "    auc = roc_auc_score(y_actual, y_pred)\r\n",
        "    accuracy = accuracy_score(y_actual, (y_pred > thresh))\r\n",
        "    recall = recall_score(y_actual, (y_pred > thresh))\r\n",
        "    \r\n",
        "    return auc, accuracy, recall\r\n",
        "\r\n",
        "\r\n",
        "classifiers = [ \r\n",
        "                lgbm_tuned,\r\n",
        "                catb_tuned]\r\n",
        "\r\n",
        "# Define a result table as a DataFrame\r\n",
        "test_result = pd.DataFrame(columns=['classifiers', 'accuracy','recall','auc'])\r\n",
        "\r\n",
        "# Train the models and record the results\r\n",
        "for cls in classifiers:\r\n",
        "    y_test_preds = cls.predict_proba(X_test_importance)[:,1]\r\n",
        "    \r\n",
        "    test_auc, test_accuracy, test_recall = test_scores(y_test,y_test_preds, 0.5) # thresh = 0.5\r\n",
        "    \r\n",
        "    test_result = test_result.append({'classifiers':cls.__class__.__name__,\r\n",
        "                                        'accuracy':test_accuracy, \r\n",
        "                                        'recall':test_recall, \r\n",
        "                                        'auc':test_auc}, ignore_index=True)\r\n",
        "\r\n",
        "\r\n",
        "# Set name of the classifiers as index labels\r\n",
        "test_result.set_index('classifiers', inplace=True)\r\n",
        "test_result.sort_values('auc',ascending=False,inplace=True)"
      ],
      "execution_count": null,
      "outputs": []
    },
    {
      "cell_type": "code",
      "metadata": {
        "colab": {
          "base_uri": "https://localhost:8080/",
          "height": 133
        },
        "id": "oYNwLRa2jX7l",
        "outputId": "5c772239-43c8-4fb5-9aa2-4ea80a4bc261"
      },
      "source": [
        "test_result"
      ],
      "execution_count": null,
      "outputs": [
        {
          "output_type": "execute_result",
          "data": {
            "text/html": [
              "<div>\n",
              "<style scoped>\n",
              "    .dataframe tbody tr th:only-of-type {\n",
              "        vertical-align: middle;\n",
              "    }\n",
              "\n",
              "    .dataframe tbody tr th {\n",
              "        vertical-align: top;\n",
              "    }\n",
              "\n",
              "    .dataframe thead th {\n",
              "        text-align: right;\n",
              "    }\n",
              "</style>\n",
              "<table border=\"1\" class=\"dataframe\">\n",
              "  <thead>\n",
              "    <tr style=\"text-align: right;\">\n",
              "      <th></th>\n",
              "      <th>accuracy</th>\n",
              "      <th>recall</th>\n",
              "      <th>auc</th>\n",
              "    </tr>\n",
              "    <tr>\n",
              "      <th>classifiers</th>\n",
              "      <th></th>\n",
              "      <th></th>\n",
              "      <th></th>\n",
              "    </tr>\n",
              "  </thead>\n",
              "  <tbody>\n",
              "    <tr>\n",
              "      <th>CatBoostClassifier</th>\n",
              "      <td>0.614324</td>\n",
              "      <td>0.601669</td>\n",
              "      <td>0.661523</td>\n",
              "    </tr>\n",
              "    <tr>\n",
              "      <th>LGBMClassifier</th>\n",
              "      <td>0.607479</td>\n",
              "      <td>0.622310</td>\n",
              "      <td>0.659988</td>\n",
              "    </tr>\n",
              "  </tbody>\n",
              "</table>\n",
              "</div>"
            ],
            "text/plain": [
              "                    accuracy    recall       auc\n",
              "classifiers                                     \n",
              "CatBoostClassifier  0.614324  0.601669  0.661523\n",
              "LGBMClassifier      0.607479  0.622310  0.659988"
            ]
          },
          "metadata": {
            "tags": []
          },
          "execution_count": 104
        }
      ]
    },
    {
      "cell_type": "markdown",
      "metadata": {
        "id": "Ts7L9l-3BQ2M"
      },
      "source": [
        "Conclusion: Going by this,i would use catboost_classifier"
      ]
    },
    {
      "cell_type": "code",
      "metadata": {
        "id": "Wp8efGkijYMO"
      },
      "source": [
        ""
      ],
      "execution_count": null,
      "outputs": []
    },
    {
      "cell_type": "code",
      "metadata": {
        "id": "o_ioCPiVjYR2"
      },
      "source": [
        ""
      ],
      "execution_count": null,
      "outputs": []
    },
    {
      "cell_type": "code",
      "metadata": {
        "id": "-hWCTq1ojYWL"
      },
      "source": [
        ""
      ],
      "execution_count": null,
      "outputs": []
    },
    {
      "cell_type": "code",
      "metadata": {
        "id": "XyvwgjnujYbX"
      },
      "source": [
        ""
      ],
      "execution_count": null,
      "outputs": []
    },
    {
      "cell_type": "code",
      "metadata": {
        "id": "1xez7T6OjYfQ"
      },
      "source": [
        ""
      ],
      "execution_count": null,
      "outputs": []
    },
    {
      "cell_type": "code",
      "metadata": {
        "id": "zZBg3sJqjYiv"
      },
      "source": [
        ""
      ],
      "execution_count": null,
      "outputs": []
    },
    {
      "cell_type": "code",
      "metadata": {
        "id": "1NW6NM4MPY96"
      },
      "source": [
        ""
      ],
      "execution_count": null,
      "outputs": []
    }
  ]
}